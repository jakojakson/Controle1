{
  "nbformat": 4,
  "nbformat_minor": 0,
  "metadata": {
    "colab": {
      "name": "Apostila de Controle 2.ipynb",
      "provenance": [],
      "collapsed_sections": [
        "RgeOOb_HRisr",
        "YTHTPZUdrgVi",
        "n4gPhDrjFdSZ",
        "T7YDQXyZRMfC",
        "e0YgMJt0lWPB",
        "Z4WD5oGjZVXW",
        "2UsuhxVdaVSO",
        "POobcat-HfDS",
        "P4_SAbYXlkoh",
        "W_vEjmukai_I",
        "yYHnmZRqH1-_",
        "0ldBKVTqI_uL",
        "xOWKdCuQJomT",
        "GBA3sfZcKWse",
        "bHOK4EL0M6Qu",
        "4oAmx_grO1-6",
        "-vRAhouJXdOW",
        "X45xiw7Za6gD",
        "FyfLOrVNHvl-"
      ]
    },
    "kernelspec": {
      "name": "python3",
      "display_name": "Python 3"
    }
  },
  "cells": [
    {
      "cell_type": "markdown",
      "metadata": {
        "id": "p5TMQRG8X5pd"
      },
      "source": [
        "# Principais Bibliotecas"
      ]
    },
    {
      "cell_type": "code",
      "metadata": {
        "colab": {
          "base_uri": "https://localhost:8080/"
        },
        "id": "V-UPrgF70HlU",
        "outputId": "61940bc7-9ad3-4928-93cf-131dd661dcb5"
      },
      "source": [
        "pip install control"
      ],
      "execution_count": null,
      "outputs": [
        {
          "output_type": "stream",
          "text": [
            "Requirement already satisfied: control in /usr/local/lib/python3.7/dist-packages (0.9.0)\n",
            "Requirement already satisfied: scipy in /usr/local/lib/python3.7/dist-packages (from control) (1.4.1)\n",
            "Requirement already satisfied: numpy in /usr/local/lib/python3.7/dist-packages (from control) (1.19.5)\n",
            "Requirement already satisfied: matplotlib in /usr/local/lib/python3.7/dist-packages (from control) (3.2.2)\n",
            "Requirement already satisfied: python-dateutil>=2.1 in /usr/local/lib/python3.7/dist-packages (from matplotlib->control) (2.8.1)\n",
            "Requirement already satisfied: kiwisolver>=1.0.1 in /usr/local/lib/python3.7/dist-packages (from matplotlib->control) (1.3.1)\n",
            "Requirement already satisfied: cycler>=0.10 in /usr/local/lib/python3.7/dist-packages (from matplotlib->control) (0.10.0)\n",
            "Requirement already satisfied: pyparsing!=2.0.4,!=2.1.2,!=2.1.6,>=2.0.1 in /usr/local/lib/python3.7/dist-packages (from matplotlib->control) (2.4.7)\n",
            "Requirement already satisfied: six>=1.5 in /usr/local/lib/python3.7/dist-packages (from python-dateutil>=2.1->matplotlib->control) (1.15.0)\n"
          ],
          "name": "stdout"
        }
      ]
    },
    {
      "cell_type": "code",
      "metadata": {
        "id": "sEESJjAy0J1d"
      },
      "source": [
        "import numpy as np\n",
        "import scipy\n",
        "import matplotlib.pyplot as plt\n",
        "import control as ctrl\n",
        "import sympy\n",
        "from sympy import *\n",
        "init_printing()"
      ],
      "execution_count": null,
      "outputs": []
    },
    {
      "cell_type": "markdown",
      "metadata": {
        "id": "Urrw6XyXbnxF"
      },
      "source": [
        "# Funções Auxiliares"
      ]
    },
    {
      "cell_type": "markdown",
      "metadata": {
        "id": "Alol5YKmRUr0"
      },
      "source": [
        "### Respostas ao Degrau e Impulso"
      ]
    },
    {
      "cell_type": "markdown",
      "metadata": {
        "id": "9oaMT_aM9IRU"
      },
      "source": [
        "Plota a resposta ao degrau discreta passando como parâmetros a planta discreta e o tempo de simulação."
      ]
    },
    {
      "cell_type": "code",
      "metadata": {
        "id": "Hk-6zcVl7K1X"
      },
      "source": [
        "def step_z(sysz,T, figx=9, figy=4, te=0.02, ts = (0.1,0.9), Amp=1):\n",
        "  xz, yz = ctrl.step_response(Amp*sysz, T)\n",
        "  fig, ax = plt.subplots(figsize=(figx,figy))\n",
        "\n",
        "  ax.step(xz, yz, where='post')\n",
        "  ax.plot(xz, yz, 'C0o',alpha=0)\n",
        "  S = step_info(xz, yz, te, ts, Amp)\n",
        "  return S"
      ],
      "execution_count": null,
      "outputs": []
    },
    {
      "cell_type": "markdown",
      "metadata": {
        "id": "34pDKP45-XNB"
      },
      "source": [
        "Plota a resposta ao degrau discreta passando como parâmetros a planta discreta e o tempo de simulação."
      ]
    },
    {
      "cell_type": "code",
      "metadata": {
        "id": "10kuf2_-96IQ"
      },
      "source": [
        "def impulse_z(Gz,T, figx=9, figy=4, Amp=1):\n",
        "  xz, yz = ctrl.impulse_response(Amp*Gz, T)\n",
        "  fig, ax = plt.subplots(figsize=(figx,figy))\n",
        "\n",
        "  ax.step(xz, yz, where='post')\n",
        "  ax.plot(xz, yz, 'C0o',alpha=0)"
      ],
      "execution_count": null,
      "outputs": []
    },
    {
      "cell_type": "markdown",
      "metadata": {
        "id": "QjUngxKB_W8d"
      },
      "source": [
        "Plota a Resposta ao degrau Contínua e as diferentes respostas ao degrau discreto para funções de transferências discretizadas em diferentes Ts."
      ]
    },
    {
      "cell_type": "code",
      "metadata": {
        "id": "BY3TkkWz_rbC"
      },
      "source": [
        "def step_s_z(Gs, Gz, T, figx=9, figy=4, Amp=1):\n",
        "  xs, ys = ctrl.step_response(Amp*Gs, T=T)\n",
        "  fig, ax = plt.subplots(figsize=(figx,figy))\n",
        "  deg_c = ax.plot(xs, ys, linewidth=1.5, label='Contínuo')\n",
        "  if Gz !=None:\n",
        "    for i in range(len(Gz)):\n",
        "      plt.gca()\n",
        "      xz, yz = ctrl.step_response(Amp*Gz[i], T)\n",
        "      deg_z = ax.step(xz, yz, where='post', label = str(round(Gz[i].dt, 6)))\n",
        "      plt.legend()"
      ],
      "execution_count": null,
      "outputs": []
    },
    {
      "cell_type": "markdown",
      "metadata": {
        "id": "RgeOOb_HRisr"
      },
      "source": [
        "### Parâmetros de Desempenho"
      ]
    },
    {
      "cell_type": "markdown",
      "metadata": {
        "id": "bg3-wlt_oUDZ"
      },
      "source": [
        "Calcula os parâmetros de desempenho ao step e retorna em formato de dicionário."
      ]
    },
    {
      "cell_type": "code",
      "metadata": {
        "id": "WbeBwqYC64Mr"
      },
      "source": [
        "def step_info(t, y, SettlingTimeThreshold, RiseTimeLimits, Amp):\n",
        "  \n",
        "  InfValue = y[-1]\n",
        "\n",
        "  #RiseTime\n",
        "  tr_lower_index = (np.where(y >= RiseTimeLimits[0] * InfValue)[0])[0]\n",
        "  tr_upper_index = (np.where(y >= RiseTimeLimits[1] * InfValue)[0])[0]\n",
        "  RiseTime = t[tr_upper_index] - t[tr_lower_index]\n",
        "\n",
        "  # SettlingTime\n",
        "  sup_margin = (1. + SettlingTimeThreshold) * InfValue\n",
        "  inf_margin = (1. - SettlingTimeThreshold) * InfValue\n",
        "  # find Steady State looking for the first point out of specified limits\n",
        "  for i in reversed(range(t.size)):\n",
        "      if((y[i] <= inf_margin) | (y[i] >= sup_margin)):\n",
        "          SettlingTime = t[i + 1]\n",
        "          break\n",
        "  # Peak\n",
        "  PeakIndex = np.abs(y).argmax()\n",
        "  PeakValue = y[PeakIndex]\n",
        "  PeakTime = t[PeakIndex]\n",
        "  SettlingMax = (y).max()\n",
        "  SettlingMin = (y[tr_upper_index:]).min()\n",
        "  # I'm really not very confident about UnderShoot:\n",
        "  UnderShoot = y.min()\n",
        "  OverShoot = 100. * (y.max() - InfValue) / (InfValue - y[0])\n",
        "\n",
        "  # Eest\n",
        "  Eest = Amp-InfValue\n",
        "\n",
        "  # Return as a dictionary\n",
        "  S = {\n",
        "      'Tempo de Subida': RiseTime,\n",
        "      'Tempo de Estabilização': SettlingTime,\n",
        "      #'SettlingMin': SettlingMin,\n",
        "      #'SettlingMax': SettlingMax,\n",
        "      'Overshoot(%)': OverShoot,\n",
        "      #'Undershoot': UnderShoot,\n",
        "      'Pico': PeakValue,\n",
        "      'Tempo de Pico': PeakTime,\n",
        "      'Valor de Estabilização': InfValue,\n",
        "      'Erro Estacionário': Eest\n",
        "    }\n",
        "\n",
        "  return S"
      ],
      "execution_count": null,
      "outputs": []
    },
    {
      "cell_type": "markdown",
      "metadata": {
        "id": "YTHTPZUdrgVi"
      },
      "source": [
        "### PZMAP Discreto"
      ]
    },
    {
      "cell_type": "markdown",
      "metadata": {
        "id": "pZtd8fftDfhW"
      },
      "source": [
        "Plota o mapa de pólos e zeros discreto com círculo de raio unitário, que demarca a região de estabilidade."
      ]
    },
    {
      "cell_type": "code",
      "metadata": {
        "id": "A-68S0LjrmY3"
      },
      "source": [
        "def pzmap_z(syz):\n",
        "  if ctrl.isdtime(syz):\n",
        "    polos,zeros=ctrl.pzmap(syz, plot=True)\n",
        "    ax = plt.gca()\n",
        "    ax.add_patch(plt.Circle((0,0), radius=1.0,\n",
        "                        linestyle=':', edgecolor='k', linewidth=1.5,\n",
        "                        fill=False, zorder=-20))\n",
        "    return polos, zeros\n",
        "  else:\n",
        "    print(\"Função Não Discretizada\")"
      ],
      "execution_count": null,
      "outputs": []
    },
    {
      "cell_type": "markdown",
      "metadata": {
        "id": "GvZ5SeOURqEs"
      },
      "source": [
        "### Projeto de Controladores"
      ]
    },
    {
      "cell_type": "markdown",
      "metadata": {
        "id": "zBkQ28JfD478"
      },
      "source": [
        "Análogo a ferramenta sisotool do MATLAB, porém com a estrutura do controlador PD, com ganho e posição do zero ajustáveis."
      ]
    },
    {
      "cell_type": "code",
      "metadata": {
        "id": "h-hiXDW5N_VU"
      },
      "source": [
        "def sisotool_pd(c, k, sysz, Ts, T=10):\n",
        "  Kz = ctrl.sample_system(ctrl.TransferFunction([1],[1]),Ts,'zoh')\n",
        "  Kz.num = [[np.asarray([k*1, -c*k])]]\n",
        "  Kz.den = [[np.asarray([1,0])]]\n",
        "\n",
        "  Gz = sysz*Kz\n",
        "  Tz = ctrl.feedback(Gz)\n",
        "  polos, zeros = ctrl.root_locus(Gz, xlim=[-1.2,1.2], ylim=[-1.2,1.2], plot=True, print_gain=True,grid=False)\n",
        "  S = step_z(Tz, T)\n",
        "  return Kz, S"
      ],
      "execution_count": null,
      "outputs": []
    },
    {
      "cell_type": "markdown",
      "metadata": {
        "id": "DkXzp4xDEP2v"
      },
      "source": [
        "Análogo a ferramenta sisotool do MATLAB, porém com a estrutura do controlador PI, com ganho e posição do pólo ajustáveis."
      ]
    },
    {
      "cell_type": "code",
      "metadata": {
        "id": "C8pl1QYp0lGZ"
      },
      "source": [
        "def sisotool_pi(c, k, sysz, Ts, T=10):\n",
        "\n",
        "  Kz = ctrl.sample_system(ctrl.TransferFunction([1],[1]),Ts,'zoh')\n",
        "  Kz.num = [[np.asarray([k*1, -c*k])]]\n",
        "  Kz.den = [[np.asarray([1,-1])]]\n",
        "\n",
        "  MA = sysz*Kz\n",
        "  Tz = ctrl.feedback(MA)\n",
        "\n",
        "  polos, zeros = ctrl.root_locus(MA, xlim=[-1.2,1.2], ylim=[-1.2,1.2], plot=True, print_gain=True,grid=False)\n",
        "  S = step_z(Tz, T)\n",
        "  return Kz, S"
      ],
      "execution_count": null,
      "outputs": []
    },
    {
      "cell_type": "markdown",
      "metadata": {
        "id": "U0qtt15wEVK6"
      },
      "source": [
        "Análogo a ferramenta sisotool do MATLAB, porém com a estrutura do controlador PID, com ganho e posição dos zeros e pólos ajustáveis."
      ]
    },
    {
      "cell_type": "code",
      "metadata": {
        "id": "Iv_ChtSD0VZ3"
      },
      "source": [
        "def sisotool_pid(r,theta,k,sysz, Ts, T=10):\n",
        "  B=2*r\n",
        "  C= ((4*theta**2)+(B**2))/4\n",
        "\n",
        "  Kz = ctrl.sample_system(ctrl.TransferFunction([1], [1]), Ts, 'zoh')\n",
        "  knum = np.asarray([k, -1*B*k, C*k])\n",
        "  kden = np.asarray([1, -1, 0])\n",
        "\n",
        "  Kz.num = [[knum]]\n",
        "  Kz.den = [[kden]]\n",
        "\n",
        "  Gz = Kz*sysz\n",
        "  Tz = ctrl.feedback(Gz)\n",
        "\n",
        "  polos, zeros = ctrl.root_locus(Gz, xlim=[-1.2,1.2], ylim=[-1.2,1.2], plot=True, print_gain=True,grid=False)\n",
        "  S = step_z(Tz, T)\n",
        "  return Kz, S "
      ],
      "execution_count": null,
      "outputs": []
    },
    {
      "cell_type": "markdown",
      "metadata": {
        "id": "n4gPhDrjFdSZ"
      },
      "source": [
        "### Equação a Diferenças"
      ]
    },
    {
      "cell_type": "markdown",
      "metadata": {
        "id": "-P_y2HHEFiTo"
      },
      "source": [
        "Calcula a Equação a Diferenças a Partir da Função de Transferência Discreta até 6ª Ordem."
      ]
    },
    {
      "cell_type": "code",
      "metadata": {
        "id": "DIwSNqXcFgwH"
      },
      "source": [
        "def Eq_Dif(Kz):\n",
        "  # Vetores para os termos que acompanhas ek_n e uk_m\n",
        "  ek_c=[] \n",
        "  uk_c=[]\n",
        "  # Cria os arrays com os termos\n",
        "  num_array = Kz.num[0][0]\n",
        "  den_array = Kz.den[0][0]\n",
        "  if len(num_array) != 0:\n",
        "    for i in range(len(num_array)):\n",
        "      ek_c.append(num_array[i])\n",
        "  if len(den_array) != 0:\n",
        "    for i in range(len(den_array)):\n",
        "      uk_c.append(den_array[i])\n",
        "  # Variaveis simbólicas para mostrar a equação a Diferenças até 6ª Ordem\n",
        "  ek, ek_1, ek_2, ek_3, ek_4, ek_5, ek_6 = symbols('ek, ek_1, ek_2, ek_3, ek_4, ek_5, ek_6')\n",
        "  uk, uk_1, uk_2, uk_3, uk_4, uk_5, uk_6 = symbols('uk, uk_1, uk_2, uk_3, uk_4, uk_5, uk_6')\n",
        "  # Completa os vetores até a 6ª Ordem\n",
        "  aux=1\n",
        "  while aux!=0:\n",
        "    if len(ek_c) != 7:\n",
        "      ek_c.append(0)\n",
        "    if len(uk_c) != 7:\n",
        "      uk_c.append(0)\n",
        "    else:\n",
        "      aux = 0\n",
        "  # Arredonda em 4 casa decimais os termos de uk e ek\n",
        "  ek_c = np.round(ek_c, 4)\n",
        "  uk_c = np.round(uk_c, 4)\n",
        "  # Escreve a Esquação a Diferenças e isola uk    \n",
        "  EQ_D = Eq(uk*uk_c[0]+ uk_1*uk_c[1]+ uk_2*uk_c[2]+ uk_3*uk_c[3]+ uk_4*uk_c[4]+ uk_5*uk_c[5]+ uk_6*uk_c[6], \n",
        "            ek*ek_c[0]+ ek_1*ek_c[1]+ ek_2*ek_c[2]+ ek_3*ek_c[3]+ ek_4*ek_c[4]+ ek_5*ek_c[5]+ ek_6*ek_c[6])\n",
        "  EQ_D1 = Eq(uk, solve(EQ_D, uk)[0])\n",
        "  return EQ_D1"
      ],
      "execution_count": null,
      "outputs": []
    },
    {
      "cell_type": "markdown",
      "metadata": {
        "id": "Bt6NDgqimWLW"
      },
      "source": [
        "###Root Locus Ganho de Estabilidade Máximo\n"
      ]
    },
    {
      "cell_type": "markdown",
      "metadata": {
        "id": "gHZyIP-iE8ku"
      },
      "source": [
        "Plota o Gráfico Lugar das Raízes e calcula o ganho de estabilidade máxima em malha fechada."
      ]
    },
    {
      "cell_type": "code",
      "metadata": {
        "id": "Wy2ylxinmdVm"
      },
      "source": [
        "def root_locus_max_gain(Gz, kveck=np.arange(0, 100, 0.01)):\n",
        "  roots, gain = ctrl.rlocus(Gz, kveck, xlim=(-1.1,1.1), ylim=(-1.1,1.1), grid=False, plot = False) \n",
        "  aux = roots.shape[1]\n",
        "  #Descobre o valor de Kmax onde o modulo da 1\n",
        "  kzeros = []\n",
        "  ganhos = []\n",
        "  for t in range(aux):\n",
        "    for i in range(len(gain)):\n",
        "      max = abs(roots[i,t])\n",
        "      if max >= 1 and max < 1.001:    \n",
        "        kzeros.append(round(roots[i,t],2))\n",
        "        ganhos.append(round(gain[i],2))\n",
        "        break\n",
        "  #Plota o gráfico com um ponto e legenda no Kmax \n",
        "  raizes2, gain2 = ctrl.root_locus(Gz, xlim=[-1.2,1.2], ylim=[-1.2,1.2], plot=True, print_gain=True,grid=False)\n",
        "  legenda = []\n",
        "  for z in range(len(kzeros)):\n",
        "    ax = plt.gca()\n",
        "    kzero = kzeros[z]\n",
        "    ganho = ganhos[z]\n",
        "    if np.iscomplex(kzero):\n",
        "      legenda.append(ax.scatter(kzero.real, kzero.imag, label=\"%s %s\"%(kzero,ganho)))\n",
        "    else:\n",
        "      legenda.append(ax.scatter(kzero, 0, label=\"%s %s\"%(kzero,ganho)))  \n",
        "    plt.legend(handles=legenda)\n",
        "  return kzeros,ganhos"
      ],
      "execution_count": null,
      "outputs": []
    },
    {
      "cell_type": "markdown",
      "metadata": {
        "id": "LtjGOXY5X-DI"
      },
      "source": [
        "# Sistemas Amostrados\n"
      ]
    },
    {
      "cell_type": "code",
      "metadata": {
        "colab": {
          "base_uri": "https://localhost:8080/"
        },
        "id": "B8RVcTiwspUs",
        "outputId": "c6fec135-b785-4b18-b7b4-6ddc06d84a72"
      },
      "source": [
        "Ts = 0.4 # variar esse valor \n",
        "\n",
        "t1 = np.arange(0, 20, 0.1)\n",
        "t2 = np.arange(0,20,Ts)\n",
        "\n",
        "fig, (ax1, ax2) = plt.subplots(2, 1,figsize=(12, 4))\n",
        "fig.suptitle('Sistemas Amostrados')\n",
        "\n",
        "ax2.plot(t2, np.sin(t2), 'o')\n",
        "ax2.set_ylabel('Função Amostrada')\n",
        "\n",
        "ax1.plot(t1, np.sin(t1), '-')\n",
        "ax1.set_ylabel('Função Contínua')\n",
        "\n",
        "plt.show()"
      ],
      "execution_count": null,
      "outputs": [
        {
          "output_type": "display_data",
          "data": {
            "image/png": "[encoded data removed]",
            "text/plain": [
              "<Figure size 864x288 with 2 Axes>"
            ]
          },
          "metadata": {
            "tags": [],
            "needs_background": "light"
          }
        }
      ]
    },
    {
      "cell_type": "markdown",
      "metadata": {
        "id": "VoWH1gQ0YT34"
      },
      "source": [
        "# Mapeamento do Domínio \"s\" para o domínio \"z\""
      ]
    },
    {
      "cell_type": "markdown",
      "metadata": {
        "id": "T9yVKn6cvmWx"
      },
      "source": [
        "A = 0+j0 \\\\\n",
        "B = 0+j2 \\\\\n",
        "C =-1+j2 \\\\\n",
        "D =-1-j2 \\\\\n",
        "E = 0,2-j2 \\\\\n",
        "F = 0,2+j0 \n",
        "\n"
      ]
    },
    {
      "cell_type": "code",
      "metadata": {
        "colab": {
          "base_uri": "https://localhost:8080/",
          "height": 294
        },
        "id": "gxY_bQNzxWAz",
        "outputId": "cf71eefb-74ad-4358-ec92-93eb95d79a13"
      },
      "source": [
        "fig, (ax1, ax2) = plt.subplots(1, 2, figsize=(12, 4))\n",
        "\n",
        "fig.suptitle('Mapeamento do Domínio \"s\" para o domínio \"z\"')\n",
        "\n",
        "# Período de amostragem\n",
        "T = 0.3\n",
        "\n",
        "# de A para B\n",
        "sigma = 0\n",
        "for w in np.arange(0,2,2/9):\n",
        "\tr  = exp(sigma*T)\n",
        "\tth = w*T\n",
        "\t# de polar para cartesiano\n",
        "\ta = r*cos(th)\n",
        "\tb = r*sin(th)\n",
        "\t# plotagens\n",
        "\tax1.plot(sigma,w,'x')\n",
        "\tax2.plot(a,b,'x')\n",
        "\n",
        "\n",
        "# de B para C\n",
        "w = 2\n",
        "for sigma in np.arange(0,-1,-1/9):\n",
        "\tr  = exp(sigma*T)\n",
        "\tth = w*T\n",
        "\t# de polar para cartesiano\n",
        "\ta = r*cos(th)\n",
        "\tb = r*sin(th)\n",
        "\t# plotagens\n",
        "\tax1.plot(sigma,w,'x')\n",
        "\tax2.plot(a,b,'x')\n",
        "\n",
        "\n",
        "# de C para D\n",
        "sigma = -1\n",
        "for w in np.arange(2,-2,-4/9): \n",
        "\tr  = exp(sigma*T)\n",
        "\tth = w*T\n",
        "\t# de polar para cartesiano\n",
        "\ta = r*cos(th)\n",
        "\tb = r*sin(th)\n",
        "\t# plotagens\n",
        "\tax1.plot(sigma,w,'x')\n",
        "\tax2.plot(a,b,'x')\n",
        "\n",
        "\n",
        "# de D para E\n",
        "w = -2\n",
        "for sigma in np.arange(-1,0.2,1.2/9):  \n",
        "\tr  = exp(sigma*T)\n",
        "\tth = w*T\n",
        "\t# de polar para cartesiano\n",
        "\ta = r*cos(th)\n",
        "\tb = r*sin(th)\n",
        "\t# plotagens\n",
        "\tax1.plot(sigma,w,'x')\n",
        "\tax2.plot(a,b,'x')\n",
        "\n",
        "\n",
        "# de E para F\n",
        "sigma = 0.2\n",
        "for w in np.arange(-2,0,2/9):\n",
        "\tr  = exp(sigma*T)\n",
        "\tth = w*T\n",
        "\t# de polar para cartesiano\n",
        "\ta = r*cos(th)\n",
        "\tb = r*sin(th)\n",
        "\t# plotagens\n",
        "\tax1.plot(sigma,w,'x')\n",
        "\tax2.plot(a,b,'x')\n",
        "\n",
        "\n",
        "# de F para A\n",
        "w = 0\n",
        "for sigma in np.arange(0.2,0,-0.2/9):\n",
        "\tr  = exp(sigma*T)\n",
        "\tth = w*T\n",
        "\t# de polar para cartesiano\n",
        "\ta = r*cos(th)\n",
        "\tb = r*sin(th)\n",
        "\t# plotagens\n",
        "\tax1.plot(sigma,w,'x')\n",
        "\tax2.plot(a,b,'x')\n",
        "\n",
        "ax1.set_ylim(-2.5, 2.5)\n",
        "ax1.set_xlim(-1.1, 0.25)\n",
        "\n",
        "ax2.set_ylim(-0.7, 0.7)\n",
        "ax2.set_xlim(0.5, 1.1)\n",
        "\n",
        "\n",
        "ax1.set_ylabel('Domínio \"s\"')\n",
        "ax2.set_ylabel('Domínio \"z\"')\n",
        "plt.show()\n",
        "\n",
        "\n"
      ],
      "execution_count": null,
      "outputs": [
        {
          "output_type": "display_data",
          "data": {
            "image/png": "[encoded data removed]",
            "text/plain": [
              "<Figure size 864x288 with 2 Axes>"
            ]
          },
          "metadata": {
            "tags": [],
            "needs_background": "light"
          }
        }
      ]
    },
    {
      "cell_type": "markdown",
      "metadata": {
        "id": "OgaOh4g1ZHGq"
      },
      "source": [
        "# Funções de Transferências discretas"
      ]
    },
    {
      "cell_type": "code",
      "metadata": {
        "colab": {
          "base_uri": "https://localhost:8080/"
        },
        "id": "ndfJHvaVGq1M",
        "outputId": "5348fc2c-04e8-4bf2-c26d-66e99cda4a26"
      },
      "source": [
        "num = [35]\n",
        "den = [1,2,3]\n",
        "\n",
        "Gz = ctrl.tf(num,den, dt = True)\n",
        "Gz"
      ],
      "execution_count": null,
      "outputs": [
        {
          "output_type": "execute_result",
          "data": {
            "text/latex": "$$\\frac{35}{z^2 + 2 z + 3}$$",
            "text/plain": [
              "TransferFunction(array([35]), array([1, 2, 3]), True)"
            ]
          },
          "metadata": {
            "tags": []
          },
          "execution_count": 15
        }
      ]
    },
    {
      "cell_type": "code",
      "metadata": {
        "colab": {
          "base_uri": "https://localhost:8080/"
        },
        "id": "Ae3Ov3PGFN3L",
        "outputId": "930db890-01eb-43c4-cd56-6f9759d0608a"
      },
      "source": [
        "num = [35]\n",
        "den = [1,2,3]\n",
        "ts = 0.2\n",
        "Gz = ctrl.tf(num,den,ts)\n",
        "Gz"
      ],
      "execution_count": null,
      "outputs": [
        {
          "output_type": "execute_result",
          "data": {
            "text/latex": "$$\\frac{35}{z^2 + 2 z + 3}\\quad dt = 0.2$$",
            "text/plain": [
              "TransferFunction(array([35]), array([1, 2, 3]), 0.2)"
            ]
          },
          "metadata": {
            "tags": []
          },
          "execution_count": 16
        }
      ]
    },
    {
      "cell_type": "markdown",
      "metadata": {
        "id": "kL-SAbpxZm_h"
      },
      "source": [
        "# Discretização de Plantas Contínuas: Métodos ZOH e Tustin"
      ]
    },
    {
      "cell_type": "markdown",
      "metadata": {
        "id": "T7YDQXyZRMfC"
      },
      "source": [
        "### Parte Analítica ZOH\n",
        "$$G(z)=\\left( \\frac{z-1}{z} \\right) \\mathcal{Z} \\left\\{ \\mathcal{L}^{-1} \\left\\{ \\frac{G(s)}{s} \\right\\}\\right\\}$$"
      ]
    },
    {
      "cell_type": "markdown",
      "metadata": {
        "id": "YwH8KbVQ69Kq"
      },
      "source": [
        "Declarando a função contínua Gs"
      ]
    },
    {
      "cell_type": "code",
      "metadata": {
        "colab": {
          "base_uri": "https://localhost:8080/",
          "height": 52
        },
        "id": "o75Bhfud6Xly",
        "outputId": "1f6e6133-6d79-4fd0-8adb-adf0d0587601"
      },
      "source": [
        "s = symbols('s')\n",
        "Gs = 2/(s+3)\n",
        "Gs"
      ],
      "execution_count": null,
      "outputs": [
        {
          "output_type": "execute_result",
          "data": {
            "image/png": "[encoded data removed]",
            "text/latex": "$\\displaystyle \\frac{2}{s + 3}$",
            "text/plain": [
              "  2  \n",
              "─────\n",
              "s + 3"
            ]
          },
          "metadata": {
            "tags": []
          },
          "execution_count": 17
        }
      ]
    },
    {
      "cell_type": "markdown",
      "metadata": {
        "id": "N1PIDVXW7jn5"
      },
      "source": [
        "Fazendo: $\\frac{Gs}{s}$"
      ]
    },
    {
      "cell_type": "code",
      "metadata": {
        "colab": {
          "base_uri": "https://localhost:8080/",
          "height": 55
        },
        "id": "ocUJfw7Q7S-h",
        "outputId": "fa5a35ca-4fa5-40ff-8ab1-99931e84c491"
      },
      "source": [
        "r = Gs/s\n",
        "r"
      ],
      "execution_count": null,
      "outputs": [
        {
          "output_type": "execute_result",
          "data": {
            "image/png": "[encoded data removed]",
            "text/latex": "$\\displaystyle \\frac{2}{s \\left(s + 3\\right)}$",
            "text/plain": [
              "    2    \n",
              "─────────\n",
              "s⋅(s + 3)"
            ]
          },
          "metadata": {
            "tags": []
          },
          "execution_count": 18
        }
      ]
    },
    {
      "cell_type": "markdown",
      "metadata": {
        "id": "6Hk17N4E79M6"
      },
      "source": [
        "Aplicando Frações Parciais na Variável $s$"
      ]
    },
    {
      "cell_type": "code",
      "metadata": {
        "colab": {
          "base_uri": "https://localhost:8080/",
          "height": 55
        },
        "id": "xDg1qOee7815",
        "outputId": "8e5010a9-3820-4e1f-8388-f76f391005af"
      },
      "source": [
        "r = apart(r,s)\n",
        "r"
      ],
      "execution_count": null,
      "outputs": [
        {
          "output_type": "execute_result",
          "data": {
            "image/png": "[encoded data removed]",
            "text/latex": "$\\displaystyle - \\frac{2}{3 \\left(s + 3\\right)} + \\frac{2}{3 s}$",
            "text/plain": [
              "      2        2 \n",
              "- ───────── + ───\n",
              "  3⋅(s + 3)   3⋅s"
            ]
          },
          "metadata": {
            "tags": []
          },
          "execution_count": 19
        }
      ]
    },
    {
      "cell_type": "markdown",
      "metadata": {
        "id": "Kn8j8ubN8PNz"
      },
      "source": [
        "Utilizando a tabela de equivalencias de \"s\" para \"z\" temos:\n",
        "\n",
        "$$\\frac{1}{s+a}=\\frac{z}{z-e^{-aT}}$$\n",
        "\n",
        "$$\\frac{1}{s}=\\frac{z}{z-1}$$\n",
        "\n",
        "Logo a Eq acima fica:\n",
        "$$\\left(\\frac{z-1}{z}\\right) \\frac{2}{3} \\left[\\frac{z}{z-1}-\\frac{z}{z-e^{-3T}}\\right]$$\n",
        "\n",
        "Precisamos reescrever a função:"
      ]
    },
    {
      "cell_type": "code",
      "metadata": {
        "colab": {
          "base_uri": "https://localhost:8080/",
          "height": 56
        },
        "id": "ArXAehLP88Zy",
        "outputId": "d3dc5c81-3194-4233-e6c2-71142cd5fab6"
      },
      "source": [
        "z,T = symbols('z T')\n",
        "r = ((z-1)/z)*2/3*(z/(z-1)-z/(z-exp(-3*T))) \n",
        "r"
      ],
      "execution_count": null,
      "outputs": [
        {
          "output_type": "execute_result",
          "data": {
            "image/png": "[encoded data removed]",
            "text/latex": "$\\displaystyle \\frac{2 \\left(z - 1\\right) \\left(- \\frac{z}{z - e^{- 3 T}} + \\frac{z}{z - 1}\\right)}{3 z}$",
            "text/plain": [
              "          ⎛      z         z  ⎞\n",
              "2⋅(z - 1)⋅⎜- ───────── + ─────⎟\n",
              "          ⎜       -3⋅T   z - 1⎟\n",
              "          ⎝  z - ℯ            ⎠\n",
              "───────────────────────────────\n",
              "              3⋅z              "
            ]
          },
          "metadata": {
            "tags": []
          },
          "execution_count": 20
        }
      ]
    },
    {
      "cell_type": "markdown",
      "metadata": {
        "id": "gG5Rr18b_LKD"
      },
      "source": [
        "Simplificando a equação acima temos:"
      ]
    },
    {
      "cell_type": "code",
      "metadata": {
        "colab": {
          "base_uri": "https://localhost:8080/",
          "height": 55
        },
        "id": "d7JSHQEX_OHq",
        "outputId": "5df89a05-1a8d-43b9-ff48-52b01d6fa2c6"
      },
      "source": [
        "Gz = simplify(r)\n",
        "Gz"
      ],
      "execution_count": null,
      "outputs": [
        {
          "output_type": "execute_result",
          "data": {
            "image/png": "[encoded data removed]",
            "text/latex": "$\\displaystyle \\frac{2 e^{3 T} - 2}{3 z e^{3 T} - 3}$",
            "text/plain": [
              "    3⋅T     \n",
              " 2⋅ℯ    - 2 \n",
              "────────────\n",
              "     3⋅T    \n",
              "3⋅z⋅ℯ    - 3"
            ]
          },
          "metadata": {
            "tags": []
          },
          "execution_count": 21
        }
      ]
    },
    {
      "cell_type": "markdown",
      "metadata": {
        "id": "nIFPiznO-Ueb"
      },
      "source": [
        "A simplificação foi feita, porém o comando simplify deixou o termo exponencial com potência positiva, quando desejávamos negativa.\n",
        "\n",
        "Multiplicando numerador e denominador por $e^{-3T}$, obtemos\n",
        "\n",
        "$$G(z)=\\frac{2}{3}\\frac{1-e^{-3T}}{z-e^{-3T}}$$"
      ]
    },
    {
      "cell_type": "markdown",
      "metadata": {
        "id": "e0YgMJt0lWPB"
      },
      "source": [
        "### Parte Computacional ZOH"
      ]
    },
    {
      "cell_type": "code",
      "metadata": {
        "colab": {
          "base_uri": "https://localhost:8080/",
          "height": 38
        },
        "id": "b3elzm7w-nEa",
        "outputId": "8cc9c58d-6920-4d13-b526-f1dd31977fe9"
      },
      "source": [
        "num = [2]\n",
        "den = [1, 3]\n",
        "Ts = 0.3\n",
        "Gs = ctrl.tf(num,den)\n",
        "\n",
        "Gz = ctrl.sample_system(Gs, Ts, method='zoh')\n",
        "Gz"
      ],
      "execution_count": null,
      "outputs": [
        {
          "output_type": "execute_result",
          "data": {
            "text/latex": "$$\\frac{0.3956}{z - 0.4066}\\quad dt = 0.3$$",
            "text/plain": [
              "TransferFunction(array([0.39562023]), array([ 1.        , -0.40656966]), 0.3)"
            ]
          },
          "metadata": {
            "tags": []
          },
          "execution_count": 22
        }
      ]
    },
    {
      "cell_type": "markdown",
      "metadata": {
        "id": "CqwNQF2vAgQ9"
      },
      "source": [
        "### Parte Analítica Tustin\n",
        "\n",
        "Para aplicar o método de Tustin devemos substituir o \"s\" de Laplace por:\n",
        "$s = \\frac{2}{T} \\frac{z-1}{z+1} $"
      ]
    },
    {
      "cell_type": "markdown",
      "metadata": {
        "id": "8Vb6PI2-CmaF"
      },
      "source": [
        "Declarando a função Gs contínua"
      ]
    },
    {
      "cell_type": "code",
      "metadata": {
        "colab": {
          "base_uri": "https://localhost:8080/",
          "height": 52
        },
        "id": "e4fomVmtAksT",
        "outputId": "20bc074c-f880-4b0f-bbfd-a8cea9ee34ed"
      },
      "source": [
        "s,z,T = symbols('s,z,T')\n",
        "Gs = 8000/(s**2+80*s+16000)\n",
        "Gs"
      ],
      "execution_count": null,
      "outputs": [
        {
          "output_type": "execute_result",
          "data": {
            "image/png": "[encoded data removed]",
            "text/latex": "$\\displaystyle \\frac{8000}{s^{2} + 80 s + 16000}$",
            "text/plain": [
              "       8000      \n",
              "─────────────────\n",
              " 2               \n",
              "s  + 80⋅s + 16000"
            ]
          },
          "metadata": {
            "tags": []
          },
          "execution_count": 23
        }
      ]
    },
    {
      "cell_type": "markdown",
      "metadata": {
        "id": "1B0tEB0HC5uy"
      },
      "source": [
        "Substituindo pelo s de Tustin"
      ]
    },
    {
      "cell_type": "code",
      "metadata": {
        "colab": {
          "base_uri": "https://localhost:8080/",
          "height": 65
        },
        "id": "OdTzrS6OC-Ti",
        "outputId": "326f75eb-a3dc-48e8-99d6-22642a9279a1"
      },
      "source": [
        "a = Gs.subs(s,(2/T)*((z-1)/(z+1)))\n",
        "a"
      ],
      "execution_count": null,
      "outputs": [
        {
          "output_type": "execute_result",
          "data": {
            "image/png": "[encoded data removed]",
            "text/latex": "$\\displaystyle \\frac{8000}{16000 + \\frac{160 \\left(z - 1\\right)}{T \\left(z + 1\\right)} + \\frac{4 \\left(z - 1\\right)^{2}}{T^{2} \\left(z + 1\\right)^{2}}}$",
            "text/plain": [
              "               8000              \n",
              "─────────────────────────────────\n",
              "                                2\n",
              "        160⋅(z - 1)    4⋅(z - 1) \n",
              "16000 + ─────────── + ───────────\n",
              "         T⋅(z + 1)     2        2\n",
              "                      T ⋅(z + 1) "
            ]
          },
          "metadata": {
            "tags": []
          },
          "execution_count": 24
        }
      ]
    },
    {
      "cell_type": "markdown",
      "metadata": {
        "id": "MSEnuS7dCyjq"
      },
      "source": [
        "Simplificando a equação acima temos:"
      ]
    },
    {
      "cell_type": "code",
      "metadata": {
        "colab": {
          "base_uri": "https://localhost:8080/",
          "height": 57
        },
        "id": "Wu1En4p1DIiM",
        "outputId": "182c656e-76cd-4602-e7cb-9a4b9e525924"
      },
      "source": [
        "r = expand(a)\n",
        "r = simplify(r)\n",
        "r"
      ],
      "execution_count": null,
      "outputs": [
        {
          "output_type": "execute_result",
          "data": {
            "image/png": "[encoded data removed]",
            "text/latex": "$\\displaystyle \\frac{2000 T^{2} \\left(z^{2} + 2 z + 1\\right)}{4000 T^{2} z^{2} + 8000 T^{2} z + 4000 T^{2} + 40 T z^{2} - 40 T + z^{2} - 2 z + 1}$",
            "text/plain": [
              "                           2 ⎛ 2          ⎞                     \n",
              "                     2000⋅T ⋅⎝z  + 2⋅z + 1⎠                     \n",
              "────────────────────────────────────────────────────────────────\n",
              "      2  2         2           2         2           2          \n",
              "4000⋅T ⋅z  + 8000⋅T ⋅z + 4000⋅T  + 40⋅T⋅z  - 40⋅T + z  - 2⋅z + 1"
            ]
          },
          "metadata": {
            "tags": []
          },
          "execution_count": 25
        }
      ]
    },
    {
      "cell_type": "markdown",
      "metadata": {
        "id": "9NKCbSrlDREr"
      },
      "source": [
        "### Parte Computacional Tustin"
      ]
    },
    {
      "cell_type": "code",
      "metadata": {
        "colab": {
          "base_uri": "https://localhost:8080/",
          "height": 41
        },
        "id": "hQc0hKiWDWPb",
        "outputId": "8d43166c-1ec7-4f2e-880f-50713a28dfe3"
      },
      "source": [
        "num = [8000]\n",
        "den = [1, 80, 16000]\n",
        "Ts = 0.3\n",
        "\n",
        "Gs = ctrl.tf(num,den)\n",
        "Gz = ctrl.sample_system(Gs, Ts, method='tustin')\n",
        "Gz"
      ],
      "execution_count": null,
      "outputs": [
        {
          "output_type": "execute_result",
          "data": {
            "text/latex": "$$\\frac{0.4826 z^2 + 0.9651 z + 0.4826}{z^2 + 1.925 z + 0.9357}\\quad dt = 0.3$$",
            "text/plain": [
              "TransferFunction(array([0.48257373, 0.96514745, 0.48257373]), array([1.        , 1.92493298, 0.93565684]), 0.3)"
            ]
          },
          "metadata": {
            "tags": []
          },
          "execution_count": 26
        }
      ]
    },
    {
      "cell_type": "markdown",
      "metadata": {
        "id": "lyTTMB47aFQA"
      },
      "source": [
        "# Mapa de Pólos e Zeros Discreto"
      ]
    },
    {
      "cell_type": "code",
      "metadata": {
        "colab": {
          "base_uri": "https://localhost:8080/",
          "height": 350
        },
        "id": "VhMFf5mbLVBj",
        "outputId": "b80e3d76-fa69-42b1-f592-63d7532af2a7"
      },
      "source": [
        "Gs = ctrl.TransferFunction([800], [1, 80, 16000])\n",
        "Ts = [0.001, 0.003, 0.006, 0.009, 0.012, 0.015]\n",
        "Gz_list = []; polos_list=[]; zeros_list=[]\n",
        "for t in Ts:\n",
        "  Gz = ctrl.sample_system(Gs, t, method='zoh') \n",
        "  polos, zeros = pzmap_z(Gz)\n",
        "  Gz_list.append(Gz); polos_list.append(polos); zeros_list.append(zeros)\n",
        "plt.show()"
      ],
      "execution_count": null,
      "outputs": [
        {
          "output_type": "stream",
          "text": [
            "/usr/local/lib/python3.7/dist-packages/control/grid.py:152: MatplotlibDeprecationWarning: Adding an axes using the same arguments as a previous axes currently reuses the earlier instance.  In a future version, a new instance will always be created and returned.  Meanwhile, this warning can be suppressed, and the future behavior ensured, by passing a unique label to each axes instance.\n",
            "  ax = plt.axes()\n"
          ],
          "name": "stderr"
        },
        {
          "output_type": "display_data",
          "data": {
            "image/png": "[encoded data removed]",
            "text/plain": [
              "<Figure size 432x288 with 1 Axes>"
            ]
          },
          "metadata": {
            "tags": [],
            "needs_background": "light"
          }
        }
      ]
    },
    {
      "cell_type": "code",
      "metadata": {
        "colab": {
          "base_uri": "https://localhost:8080/"
        },
        "id": "uHLZ6Y1kuYc7",
        "outputId": "d23a3e04-948c-47f1-af4f-f7b4b6f26364"
      },
      "source": [
        "aux = 2\n",
        "print(Gz_list[aux].dt, polos_list[aux], zeros_list[aux])"
      ],
      "execution_count": null,
      "outputs": [
        {
          "output_type": "stream",
          "text": [
            "0.006 [0.59139133+0.51869035j 0.59139133-0.51869035j] [-0.84971891]\n"
          ],
          "name": "stdout"
        }
      ]
    },
    {
      "cell_type": "markdown",
      "metadata": {
        "id": "4lbpYCpBSsg8"
      },
      "source": [
        "# Critérios de Estabilidade: Pólos e Jury"
      ]
    },
    {
      "cell_type": "markdown",
      "metadata": {
        "id": "ptMmPV4cxWaw"
      },
      "source": [
        "##Teste de Jury: Critérios \n",
        "\n",
        "\n",
        "> 1º Critério $$ |a_n| < a_0 $$\n",
        "\n",
        "\n",
        "\n",
        "\n",
        "\n",
        "> 2º Critério $$ P(z)|_{z=1} > 0$$\n",
        "\n",
        "\n",
        "\n",
        "\n",
        "> 3º Critério \n",
        "\n",
        "*   Para n par $$ P(z)|_{z=-1} > 0 $$\n",
        "*   Para n ímpar $$ P(z)|_{z=-1} < 0 $$\n",
        "\n",
        "\n",
        "\n",
        "> 4º Critério $$ |b_{n-1}| < |b_0| $$ $$ |c_{n-2}| < |c_0| $$ $$ |q_2| < |q_0| $$\n",
        "\n",
        "\n",
        "\n",
        "\n",
        "\n",
        "\n",
        "\n",
        "\n",
        "\n",
        "\n",
        "\n",
        "\n",
        "\n",
        "\n",
        "\n",
        "\n",
        "\n"
      ]
    },
    {
      "cell_type": "markdown",
      "metadata": {
        "id": "BcId-kmp0jfg"
      },
      "source": [
        "##Exemplo"
      ]
    },
    {
      "cell_type": "code",
      "metadata": {
        "id": "_664nGtf0iko",
        "colab": {
          "base_uri": "https://localhost:8080/",
          "height": 37
        },
        "outputId": "1dd26e94-c590-4f89-eee0-73f6c53b5994"
      },
      "source": [
        "z = symbols('z')\n",
        "\n",
        "# Atribuição dos coeficientes do polinômio\n",
        "a0 = 1\n",
        "a1 = -1.2\n",
        "a2 = 0.07\n",
        "a3 = 0.3\n",
        "a4 = -0.08\n",
        "\n",
        "Pz = a0*z**4 + a1*z**3 + a2*z**2 + a3*z + a4; Pz"
      ],
      "execution_count": null,
      "outputs": [
        {
          "output_type": "execute_result",
          "data": {
            "image/png": "[encoded data removed]",
            "text/latex": "$\\displaystyle z^{4} - 1.2 z^{3} + 0.07 z^{2} + 0.3 z - 0.08$",
            "text/plain": [
              " 4        3         2               \n",
              "z  - 1.2⋅z  + 0.07⋅z  + 0.3⋅z - 0.08"
            ]
          },
          "metadata": {
            "tags": []
          },
          "execution_count": 29
        }
      ]
    },
    {
      "cell_type": "markdown",
      "metadata": {
        "id": "P2vtschv0cgA"
      },
      "source": [
        "###1º Critério"
      ]
    },
    {
      "cell_type": "code",
      "metadata": {
        "colab": {
          "base_uri": "https://localhost:8080/"
        },
        "id": "aKrAkOI90d1A",
        "outputId": "a3e0a844-26f2-497e-b8a6-21fdc360a0dd"
      },
      "source": [
        "print(\"|\",a4,\"| < \",a0,'=', abs(a4) < a0 )"
      ],
      "execution_count": null,
      "outputs": [
        {
          "output_type": "stream",
          "text": [
            "| -0.08 | <  1 = True\n"
          ],
          "name": "stdout"
        }
      ]
    },
    {
      "cell_type": "markdown",
      "metadata": {
        "id": "2WJaZFuW034R"
      },
      "source": [
        "### 2ºCritério"
      ]
    },
    {
      "cell_type": "code",
      "metadata": {
        "id": "dNEO9RGU0b1x",
        "colab": {
          "base_uri": "https://localhost:8080/"
        },
        "outputId": "85fdaf70-3a55-4e22-ea17-29bb1f5f6107"
      },
      "source": [
        "r = Pz.subs(z,1);\n",
        "print(r,\" > 0 =\",r>0)"
      ],
      "execution_count": null,
      "outputs": [
        {
          "output_type": "stream",
          "text": [
            "0.0900000000000001  > 0 = True\n"
          ],
          "name": "stdout"
        }
      ]
    },
    {
      "cell_type": "markdown",
      "metadata": {
        "id": "dWKgJmvQ0635"
      },
      "source": [
        "### 3ºCritério"
      ]
    },
    {
      "cell_type": "code",
      "metadata": {
        "colab": {
          "base_uri": "https://localhost:8080/"
        },
        "id": "h8lyt5H706dw",
        "outputId": "4e0bd1ca-a7c5-46d7-ce10-47ab9691db0c"
      },
      "source": [
        "r = Pz.subs(z,-1)\n",
        "print(r,\" > 0 =\", r>0)"
      ],
      "execution_count": null,
      "outputs": [
        {
          "output_type": "stream",
          "text": [
            "1.89000000000000  > 0 = True\n"
          ],
          "name": "stdout"
        }
      ]
    },
    {
      "cell_type": "markdown",
      "metadata": {
        "id": "zzRskj7V1Q7Q"
      },
      "source": [
        "### 4º Critério"
      ]
    },
    {
      "cell_type": "code",
      "metadata": {
        "colab": {
          "base_uri": "https://localhost:8080/",
          "height": 57
        },
        "id": "Tgf_31fe1QdX",
        "outputId": "0a3fba58-69aa-46c5-db05-b047faa39c5f"
      },
      "source": [
        "# Montagem da tabela de Jury\n",
        "# Iniciando pelas duas primeiras linhas\n",
        "M = Matrix([[a0,a1,a2,a3,a4],\n",
        "            [a4,a3,a2,a1,a0]])\n",
        "M"
      ],
      "execution_count": null,
      "outputs": [
        {
          "output_type": "execute_result",
          "data": {
            "text/latex": "$\\displaystyle \\left[\\begin{matrix}1 & -1.2 & 0.07 & 0.3 & -0.08\\\\-0.08 & 0.3 & 0.07 & -1.2 & 1\\end{matrix}\\right]$",
            "text/plain": [
              "⎡  1    -1.2  0.07  0.3   -0.08⎤\n",
              "⎢                              ⎥\n",
              "⎣-0.08  0.3   0.07  -1.2    1  ⎦"
            ]
          },
          "metadata": {
            "tags": []
          },
          "execution_count": 33
        }
      ]
    },
    {
      "cell_type": "code",
      "metadata": {
        "colab": {
          "base_uri": "https://localhost:8080/",
          "height": 75
        },
        "id": "8xfAFiKq2CvX",
        "outputId": "a9c92b2f-7e2c-4a4f-c295-46156d58d31e"
      },
      "source": [
        "#Calulando B3\n",
        "M2 = Matrix([[a4,a0],\n",
        "             [a0,a4]])\n",
        "display(M2)\n",
        "b3=det(M2)\n",
        "print(\"b3 =\",b3)"
      ],
      "execution_count": null,
      "outputs": [
        {
          "output_type": "display_data",
          "data": {
            "text/latex": "$\\displaystyle \\left[\\begin{matrix}-0.08 & 1\\\\1 & -0.08\\end{matrix}\\right]$",
            "text/plain": [
              "⎡-0.08    1  ⎤\n",
              "⎢            ⎥\n",
              "⎣  1    -0.08⎦"
            ]
          },
          "metadata": {
            "tags": []
          }
        },
        {
          "output_type": "stream",
          "text": [
            "b3 = -0.993600000000000\n"
          ],
          "name": "stdout"
        }
      ]
    },
    {
      "cell_type": "code",
      "metadata": {
        "colab": {
          "base_uri": "https://localhost:8080/",
          "height": 75
        },
        "id": "HqWeDDS-2tGR",
        "outputId": "6f1262cb-d914-4598-f5ab-a6dd0c0968e3"
      },
      "source": [
        "#Calulando B2\n",
        "M2 = Matrix([[a4,a1],\n",
        "             [a0,a3]])\n",
        "display(M2)\n",
        "b2=det(M2)\n",
        "print(\"b2 =\",b2)"
      ],
      "execution_count": null,
      "outputs": [
        {
          "output_type": "display_data",
          "data": {
            "text/latex": "$\\displaystyle \\left[\\begin{matrix}-0.08 & -1.2\\\\1 & 0.3\\end{matrix}\\right]$",
            "text/plain": [
              "⎡-0.08  -1.2⎤\n",
              "⎢           ⎥\n",
              "⎣  1    0.3 ⎦"
            ]
          },
          "metadata": {
            "tags": []
          }
        },
        {
          "output_type": "stream",
          "text": [
            "b2 = 1.17600000000000\n"
          ],
          "name": "stdout"
        }
      ]
    },
    {
      "cell_type": "code",
      "metadata": {
        "colab": {
          "base_uri": "https://localhost:8080/",
          "height": 75
        },
        "id": "LOhFIDiT2vch",
        "outputId": "541450ca-40ec-49c8-f4bc-b0de26c8d22f"
      },
      "source": [
        "#Calulando B1\n",
        "M2 = Matrix([[a4,a2],\n",
        "             [a0,a2]])\n",
        "display(M2)\n",
        "b1=det(M2)\n",
        "print(\"b1 =\",b1)"
      ],
      "execution_count": null,
      "outputs": [
        {
          "output_type": "display_data",
          "data": {
            "text/latex": "$\\displaystyle \\left[\\begin{matrix}-0.08 & 0.07\\\\1 & 0.07\\end{matrix}\\right]$",
            "text/plain": [
              "⎡-0.08  0.07⎤\n",
              "⎢           ⎥\n",
              "⎣  1    0.07⎦"
            ]
          },
          "metadata": {
            "tags": []
          }
        },
        {
          "output_type": "stream",
          "text": [
            "b1 = -0.0756000000000000\n"
          ],
          "name": "stdout"
        }
      ]
    },
    {
      "cell_type": "code",
      "metadata": {
        "colab": {
          "base_uri": "https://localhost:8080/",
          "height": 75
        },
        "id": "5mWTpsSM2VPJ",
        "outputId": "f66e9cf7-ea87-46f0-eff4-4650acaa7d41"
      },
      "source": [
        "#Calulando B0\n",
        "M2 = Matrix([[a4,a3],\n",
        "             [a0,a1]])\n",
        "display(M2)\n",
        "b0=det(M2)\n",
        "print(\"b0 =\",b0)"
      ],
      "execution_count": null,
      "outputs": [
        {
          "output_type": "display_data",
          "data": {
            "text/latex": "$\\displaystyle \\left[\\begin{matrix}-0.08 & 0.3\\\\1 & -1.2\\end{matrix}\\right]$",
            "text/plain": [
              "⎡-0.08  0.3 ⎤\n",
              "⎢           ⎥\n",
              "⎣  1    -1.2⎦"
            ]
          },
          "metadata": {
            "tags": []
          }
        },
        {
          "output_type": "stream",
          "text": [
            "b0 = -0.204000000000000\n"
          ],
          "name": "stdout"
        }
      ]
    },
    {
      "cell_type": "code",
      "metadata": {
        "colab": {
          "base_uri": "https://localhost:8080/"
        },
        "id": "sozuEaGM2XbZ",
        "outputId": "5dcd4888-2c7b-46ca-a749-57285d9d603c"
      },
      "source": [
        "#Quarto Critério em b\n",
        "#O módulo de b0 tem que ser menor que o módulo de b3\n",
        "print(\"|\",b0,\"| <\",'|',b3,'|','=', abs(b0) < abs(b3) )"
      ],
      "execution_count": null,
      "outputs": [
        {
          "output_type": "stream",
          "text": [
            "| -0.204000000000000 | < | -0.993600000000000 | = True\n"
          ],
          "name": "stdout"
        }
      ]
    },
    {
      "cell_type": "code",
      "metadata": {
        "colab": {
          "base_uri": "https://localhost:8080/",
          "height": 57
        },
        "id": "9NDZlALA2kW5",
        "outputId": "5070660d-109a-4c44-a252-b5f511da4f46"
      },
      "source": [
        "#Linhas centrais \n",
        "M = Matrix([[b3,b2,b1,b0],\n",
        "            [b0,b1,b2,b3]])\n",
        "M"
      ],
      "execution_count": null,
      "outputs": [
        {
          "output_type": "execute_result",
          "data": {
            "text/latex": "$\\displaystyle \\left[\\begin{matrix}-0.9936 & 1.176 & -0.0756 & -0.204\\\\-0.204 & -0.0756 & 1.176 & -0.9936\\end{matrix}\\right]$",
            "text/plain": [
              "⎡-0.9936   1.176   -0.0756  -0.204 ⎤\n",
              "⎢                                  ⎥\n",
              "⎣-0.204   -0.0756   1.176   -0.9936⎦"
            ]
          },
          "metadata": {
            "tags": []
          },
          "execution_count": 39
        }
      ]
    },
    {
      "cell_type": "code",
      "metadata": {
        "colab": {
          "base_uri": "https://localhost:8080/",
          "height": 75
        },
        "id": "44sHn0u52zAw",
        "outputId": "d7009040-f732-4dcf-bcfc-7b74d9d46f1d"
      },
      "source": [
        "#Calulando C2\n",
        "M2 = Matrix([[b3,b0],\n",
        "             [b0,b3]])\n",
        "display(M2)\n",
        "c2=det(M2)\n",
        "print(\"c2 =\",c2)"
      ],
      "execution_count": null,
      "outputs": [
        {
          "output_type": "display_data",
          "data": {
            "text/latex": "$\\displaystyle \\left[\\begin{matrix}-0.9936 & -0.204\\\\-0.204 & -0.9936\\end{matrix}\\right]$",
            "text/plain": [
              "⎡-0.9936  -0.204 ⎤\n",
              "⎢                ⎥\n",
              "⎣-0.204   -0.9936⎦"
            ]
          },
          "metadata": {
            "tags": []
          }
        },
        {
          "output_type": "stream",
          "text": [
            "c2 = 0.945624960000000\n"
          ],
          "name": "stdout"
        }
      ]
    },
    {
      "cell_type": "code",
      "metadata": {
        "colab": {
          "base_uri": "https://localhost:8080/",
          "height": 75
        },
        "id": "bSW6VVML22Iw",
        "outputId": "297e0edf-1555-4959-c574-16a1899b7a28"
      },
      "source": [
        "#Calulando C1\n",
        "M2 = Matrix([[b3,b1],\n",
        "             [b0,b2]])\n",
        "display(M2)\n",
        "c1=det(M2)\n",
        "print(\"c1 =\",c1)"
      ],
      "execution_count": null,
      "outputs": [
        {
          "output_type": "display_data",
          "data": {
            "text/latex": "$\\displaystyle \\left[\\begin{matrix}-0.9936 & -0.0756\\\\-0.204 & 1.176\\end{matrix}\\right]$",
            "text/plain": [
              "⎡-0.9936  -0.0756⎤\n",
              "⎢                ⎥\n",
              "⎣-0.204    1.176 ⎦"
            ]
          },
          "metadata": {
            "tags": []
          }
        },
        {
          "output_type": "stream",
          "text": [
            "c1 = -1.18389600000000\n"
          ],
          "name": "stdout"
        }
      ]
    },
    {
      "cell_type": "code",
      "metadata": {
        "colab": {
          "base_uri": "https://localhost:8080/",
          "height": 75
        },
        "id": "P5Tv2pum2nQk",
        "outputId": "9b0851b5-e43c-4674-8504-9269fb5c066b"
      },
      "source": [
        "#Calulando C0\n",
        "M2 = Matrix([[b3,b2],\n",
        "             [b0,b1]])\n",
        "display(M2)\n",
        "c0=det(M2)\n",
        "print(\"c0 =\",c0)"
      ],
      "execution_count": null,
      "outputs": [
        {
          "output_type": "display_data",
          "data": {
            "text/latex": "$\\displaystyle \\left[\\begin{matrix}-0.9936 & 1.176\\\\-0.204 & -0.0756\\end{matrix}\\right]$",
            "text/plain": [
              "⎡-0.9936   1.176 ⎤\n",
              "⎢                ⎥\n",
              "⎣-0.204   -0.0756⎦"
            ]
          },
          "metadata": {
            "tags": []
          }
        },
        {
          "output_type": "stream",
          "text": [
            "c0 = 0.315020160000000\n"
          ],
          "name": "stdout"
        }
      ]
    },
    {
      "cell_type": "code",
      "metadata": {
        "colab": {
          "base_uri": "https://localhost:8080/"
        },
        "id": "g9KtXCIr27TQ",
        "outputId": "174fa37c-7fc1-4275-b80d-323bf5b5d3ce"
      },
      "source": [
        "#Quarto Critério em c\n",
        "#O módulo de c0 tem que ser menor que o módulo de c2\n",
        "print(\"|\",c0,\"| <\",'|',c2,'|','=', abs(c0) < abs(c2) )"
      ],
      "execution_count": null,
      "outputs": [
        {
          "output_type": "stream",
          "text": [
            "| 0.315020160000000 | < | 0.945624960000000 | = True\n"
          ],
          "name": "stdout"
        }
      ]
    },
    {
      "cell_type": "markdown",
      "metadata": {
        "id": "AvDhDe9T3dbp"
      },
      "source": [
        "Como todas as condições foram cumpridas, pode-se dizer que o sistema tem todas as raizes dentro do circulo unitário sendo estável"
      ]
    },
    {
      "cell_type": "markdown",
      "metadata": {
        "id": "l_mTMroa3C63"
      },
      "source": [
        "### Utilizando a função Solve\n",
        "Também é possivel descobrir as raizes do polinômio com a função solve() e verificar se as raizes estão dentro do circuilo unitário"
      ]
    },
    {
      "cell_type": "code",
      "metadata": {
        "colab": {
          "base_uri": "https://localhost:8080/",
          "height": 36
        },
        "id": "V2vE6YKI3BKA",
        "outputId": "a7eb9b46-0533-47df-caa1-bbd3150ec82e"
      },
      "source": [
        "solve(Pz,z)"
      ],
      "execution_count": null,
      "outputs": [
        {
          "output_type": "execute_result",
          "data": {
            "image/png": "[encoded data removed]",
            "text/latex": "$\\displaystyle \\left[ -0.5, \\  0.4, \\  0.5, \\  0.8\\right]$",
            "text/plain": [
              "[-0.5, 0.4, 0.5, 0.8]"
            ]
          },
          "metadata": {
            "tags": []
          },
          "execution_count": 44
        }
      ]
    },
    {
      "cell_type": "code",
      "metadata": {
        "colab": {
          "base_uri": "https://localhost:8080/",
          "height": 536
        },
        "id": "hkB1Yv_pG6HE",
        "outputId": "eae48771-33ca-43f1-de03-580a6f40670f"
      },
      "source": [
        "fig, ax = plt.subplots(figsize=(9,9))\n",
        "ax.add_patch(plt.Circle((0,0), radius=1.0,\n",
        "                        linestyle=':', edgecolor='k', linewidth=1.5,\n",
        "                        fill=False, zorder=-20))\n",
        "ax.plot(-0.5, 0, 'x')\n",
        "ax.plot(0.4, 0, 'x')\n",
        "ax.plot(0.5, 0, 'x')\n",
        "ax.plot(0.8, 0, 'x')\n",
        "ax.grid(True)"
      ],
      "execution_count": null,
      "outputs": [
        {
          "output_type": "display_data",
          "data": {
            "image/png": "[encoded data removed]",
            "text/plain": [
              "<Figure size 648x648 with 1 Axes>"
            ]
          },
          "metadata": {
            "tags": [],
            "needs_background": "light"
          }
        }
      ]
    },
    {
      "cell_type": "markdown",
      "metadata": {
        "id": "Z4WD5oGjZVXW"
      },
      "source": [
        "# Resposta ao Degrau e Impulse Discreto"
      ]
    },
    {
      "cell_type": "code",
      "metadata": {
        "colab": {
          "base_uri": "https://localhost:8080/"
        },
        "id": "ESIuY5UP5gtN",
        "outputId": "aa88623f-a3b8-4e4e-b4b7-0a40264c74a9"
      },
      "source": [
        "num = [10]\n",
        "den = [1, 5, 10]\n",
        "Gs = ctrl.TransferFunction(num, den)\n",
        "Gs"
      ],
      "execution_count": null,
      "outputs": [
        {
          "output_type": "execute_result",
          "data": {
            "text/latex": "$$\\frac{10}{s^2 + 5 s + 10}$$",
            "text/plain": [
              "TransferFunction(array([10]), array([ 1,  5, 10]))"
            ]
          },
          "metadata": {
            "tags": []
          },
          "execution_count": 46
        }
      ]
    },
    {
      "cell_type": "code",
      "metadata": {
        "colab": {
          "base_uri": "https://localhost:8080/"
        },
        "id": "dGA65ibQ3qem",
        "outputId": "5a070693-2585-449f-8be9-a93f05958429"
      },
      "source": [
        "Gz = ctrl.sample_system(Gs, 0.2, 'zoh')\n",
        "S = step_z(Gz, 10, ts=(0.1,0.9))\n",
        "S"
      ],
      "execution_count": null,
      "outputs": [
        {
          "output_type": "execute_result",
          "data": {
            "text/plain": [
              "{'Erro Estacionário': 2.09205985868266e-11,\n",
              " 'Overshoot(%)': 1.7277241887834822,\n",
              " 'Pico': 1.0172772418665528,\n",
              " 'Tempo de Estabilização': 1.2000000000000002,\n",
              " 'Tempo de Pico': 1.6,\n",
              " 'Tempo de Subida': 0.8,\n",
              " 'Valor de Estabilização': 0.9999999999790794}"
            ]
          },
          "metadata": {
            "tags": []
          },
          "execution_count": 47
        },
        {
          "output_type": "display_data",
          "data": {
            "image/png": "[encoded data removed]",
            "text/plain": [
              "<Figure size 648x288 with 1 Axes>"
            ]
          },
          "metadata": {
            "tags": [],
            "needs_background": "light"
          }
        }
      ]
    },
    {
      "cell_type": "code",
      "metadata": {
        "id": "W7PtBJzE53kt"
      },
      "source": [
        "Ts = [0.2, 0.5, 1]\n",
        "Gz = ctrl.sample_system(Gs, Ts[0], 'zoh')\n",
        "Gz1 = ctrl.sample_system(Gs, Ts[1], 'zoh')\n",
        "Gz2 = ctrl.sample_system(Gs, Ts[2], 'zoh')"
      ],
      "execution_count": null,
      "outputs": []
    },
    {
      "cell_type": "code",
      "metadata": {
        "colab": {
          "base_uri": "https://localhost:8080/"
        },
        "id": "v-CwdwSr6tSI",
        "outputId": "4137b643-697e-45b0-b28c-d8b88f1688e7"
      },
      "source": [
        "impulse_z(Gz, 10)"
      ],
      "execution_count": null,
      "outputs": [
        {
          "output_type": "display_data",
          "data": {
            "image/png": "[encoded data removed]",
            "text/plain": [
              "<Figure size 648x288 with 1 Axes>"
            ]
          },
          "metadata": {
            "tags": [],
            "needs_background": "light"
          }
        }
      ]
    },
    {
      "cell_type": "code",
      "metadata": {
        "colab": {
          "base_uri": "https://localhost:8080/"
        },
        "id": "iG5nVTxv6wdT",
        "outputId": "f18102aa-3029-47cb-b67f-9dd89468c370"
      },
      "source": [
        "step_s_z(Gs,[Gz, Gz1, Gz2], 10)"
      ],
      "execution_count": null,
      "outputs": [
        {
          "output_type": "display_data",
          "data": {
            "image/png": "[encoded data removed]",
            "text/plain": [
              "<Figure size 648x288 with 1 Axes>"
            ]
          },
          "metadata": {
            "tags": [],
            "needs_background": "light"
          }
        }
      ]
    },
    {
      "cell_type": "markdown",
      "metadata": {
        "id": "qGhtp6ZaZ31P"
      },
      "source": [
        "# Método Lugar das Raízes Discreto"
      ]
    },
    {
      "cell_type": "markdown",
      "metadata": {
        "id": "uHx3C2JrNAs7"
      },
      "source": [
        "## Método RLOCUS"
      ]
    },
    {
      "cell_type": "code",
      "metadata": {
        "colab": {
          "base_uri": "https://localhost:8080/",
          "height": 38
        },
        "id": "eJDhhTfTOI-V",
        "outputId": "8cd5a8a3-b10e-4987-fe3a-1fd5e6bc0d4d"
      },
      "source": [
        "num = [5]\n",
        "den = [1, 2]\n",
        "Gs = ctrl.TransferFunction(num, den)\n",
        "Gs"
      ],
      "execution_count": null,
      "outputs": [
        {
          "output_type": "execute_result",
          "data": {
            "text/latex": "$$\\frac{5}{s + 2}$$",
            "text/plain": [
              "TransferFunction(array([5]), array([1, 2]))"
            ]
          },
          "metadata": {
            "tags": []
          },
          "execution_count": 51
        }
      ]
    },
    {
      "cell_type": "code",
      "metadata": {
        "id": "cWtpAZ6FOXeQ"
      },
      "source": [
        "Gz_list = []\n",
        "Ts_list = [0.1, 0.05, 0.02]\n",
        "for t in Ts_list:\n",
        "  Gz = ctrl.sample_system(Gs, t)\n",
        "  Gz_list.append(Gz)"
      ],
      "execution_count": null,
      "outputs": []
    },
    {
      "cell_type": "code",
      "metadata": {
        "colab": {
          "base_uri": "https://localhost:8080/",
          "height": 851
        },
        "id": "XKhU3GVENk-s",
        "outputId": "f30a83af-d878-482f-8e76-c0f8a240a354"
      },
      "source": [
        "kveck = np.arange(0, 100, 0.01)\n",
        "for G in Gz_list:\n",
        "  roots, gain = ctrl.rlocus(G, kveck, print_gain=True, xlim=(-1.1,1.1), ylim=(-1.1,1.1), grid=False, plot = True)\n",
        "  plt.title('Root Locus: Ts = ' + str(G.dt))\n",
        "  plt.show()"
      ],
      "execution_count": null,
      "outputs": [
        {
          "output_type": "display_data",
          "data": {
            "image/png": "[encoded data removed]",
            "text/plain": [
              "<Figure size 432x288 with 1 Axes>"
            ]
          },
          "metadata": {
            "tags": [],
            "needs_background": "light"
          }
        },
        {
          "output_type": "display_data",
          "data": {
            "image/png": "[encoded data removed]",
            "text/plain": [
              "<Figure size 432x288 with 1 Axes>"
            ]
          },
          "metadata": {
            "tags": [],
            "needs_background": "light"
          }
        },
        {
          "output_type": "display_data",
          "data": {
            "image/png": "[encoded data removed]",
            "text/plain": [
              "<Figure size 432x288 with 1 Axes>"
            ]
          },
          "metadata": {
            "tags": [],
            "needs_background": "light"
          }
        }
      ]
    },
    {
      "cell_type": "markdown",
      "metadata": {
        "id": "QPqe4fweNVnY"
      },
      "source": [
        "## Ganho de Estabilidade Máximo"
      ]
    },
    {
      "cell_type": "code",
      "metadata": {
        "colab": {
          "base_uri": "https://localhost:8080/",
          "height": 38
        },
        "id": "IN8HMqNc0gP3",
        "outputId": "600b4ea0-71f1-4683-a848-cf6029534bbe"
      },
      "source": [
        "num = [1.5]\n",
        "den = [1, 4, 3, 0]\n",
        "Gs = ctrl.TransferFunction(num, den)\n",
        "Gs"
      ],
      "execution_count": null,
      "outputs": [
        {
          "output_type": "execute_result",
          "data": {
            "text/latex": "$$\\frac{1.5}{s^3 + 4 s^2 + 3 s}$$",
            "text/plain": [
              "TransferFunction(array([1.5]), array([1, 4, 3, 0]))"
            ]
          },
          "metadata": {
            "tags": []
          },
          "execution_count": 54
        }
      ]
    },
    {
      "cell_type": "code",
      "metadata": {
        "id": "DhR_AxxD08uU"
      },
      "source": [
        "Gz_list = []\n",
        "Ts_list = [1, 0.6, 0.2]\n",
        "for t in Ts_list:\n",
        "  Gz = ctrl.sample_system(Gs, t)\n",
        "  Gz_list.append(Gz)"
      ],
      "execution_count": null,
      "outputs": []
    },
    {
      "cell_type": "code",
      "metadata": {
        "colab": {
          "base_uri": "https://localhost:8080/",
          "height": 1000
        },
        "id": "6DblmtBJNG_A",
        "outputId": "2ffa38c7-b883-401b-d1fa-2e77c42355c1"
      },
      "source": [
        "for G in Gz_list:\n",
        "  kzeros,ganhos = root_locus_max_gain(G)\n",
        "  plt.title('Root Locus: Ts = ' + str(G.dt))\n",
        "  plt.show() "
      ],
      "execution_count": null,
      "outputs": [
        {
          "output_type": "stream",
          "text": [
            "/usr/local/lib/python3.7/dist-packages/ipykernel_launcher.py:11: DeprecationWarning: The Python built-in `round` is deprecated for complex scalars, and will raise a `TypeError` in a future release. Use `np.round` or `scalar.round` instead.\n",
            "  # This is added back by InteractiveShellApp.init_path()\n",
            "/usr/local/lib/python3.7/dist-packages/numpy/core/_asarray.py:136: ComplexWarning: Casting complex values to real discards the imaginary part\n",
            "  return array(a, dtype, copy=False, order=order, subok=True)\n"
          ],
          "name": "stderr"
        },
        {
          "output_type": "display_data",
          "data": {
            "image/png": "[encoded data removed]",
            "text/plain": [
              "<Figure size 432x288 with 1 Axes>"
            ]
          },
          "metadata": {
            "tags": [],
            "needs_background": "light"
          }
        },
        {
          "output_type": "stream",
          "text": [
            "/usr/local/lib/python3.7/dist-packages/ipykernel_launcher.py:11: DeprecationWarning: The Python built-in `round` is deprecated for complex scalars, and will raise a `TypeError` in a future release. Use `np.round` or `scalar.round` instead.\n",
            "  # This is added back by InteractiveShellApp.init_path()\n"
          ],
          "name": "stderr"
        },
        {
          "output_type": "display_data",
          "data": {
            "image/png": "[encoded data removed]",
            "text/plain": [
              "<Figure size 432x288 with 1 Axes>"
            ]
          },
          "metadata": {
            "tags": [],
            "needs_background": "light"
          }
        },
        {
          "output_type": "stream",
          "text": [
            "/usr/local/lib/python3.7/dist-packages/ipykernel_launcher.py:11: DeprecationWarning: The Python built-in `round` is deprecated for complex scalars, and will raise a `TypeError` in a future release. Use `np.round` or `scalar.round` instead.\n",
            "  # This is added back by InteractiveShellApp.init_path()\n"
          ],
          "name": "stderr"
        },
        {
          "output_type": "display_data",
          "data": {
            "image/png": "[encoded data removed]",
            "text/plain": [
              "<Figure size 432x288 with 1 Axes>"
            ]
          },
          "metadata": {
            "tags": [],
            "needs_background": "light"
          }
        }
      ]
    },
    {
      "cell_type": "markdown",
      "metadata": {
        "id": "2UsuhxVdaVSO"
      },
      "source": [
        "# Estrutura de Controladores Discretos\n"
      ]
    },
    {
      "cell_type": "markdown",
      "metadata": {
        "id": "7UaYepRAnHEE"
      },
      "source": [
        "Controlador PD:\n",
        "\n",
        "\n",
        "*   1 zero real ajustável.\n",
        "*   1 polo real fixo em 0.\n",
        "\n",
        "\n",
        "\n",
        "$C_{PD}(z) = \\frac{(kp+kd)z - kd}{z}$\n",
        "\n"
      ]
    },
    {
      "cell_type": "code",
      "metadata": {
        "colab": {
          "base_uri": "https://localhost:8080/"
        },
        "id": "x2WQTbQLoP9U",
        "outputId": "9c42af97-fb02-4412-c570-2711cd4ebe1e"
      },
      "source": [
        "kp = 1\n",
        "kd = 5\n",
        "CPDz = ctrl.TransferFunction([kp+kd, -kd], [1,0], dt=True)\n",
        "CPDz"
      ],
      "execution_count": null,
      "outputs": [
        {
          "output_type": "execute_result",
          "data": {
            "text/latex": "$$\\frac{6 z - 5}{z}$$",
            "text/plain": [
              "TransferFunction(array([ 6, -5]), array([1, 0]), True)"
            ]
          },
          "metadata": {
            "tags": []
          },
          "execution_count": 57
        }
      ]
    },
    {
      "cell_type": "code",
      "metadata": {
        "colab": {
          "base_uri": "https://localhost:8080/"
        },
        "id": "oPsZhmqIqo7L",
        "outputId": "504d969a-d33b-4a22-a460-2c63200ed02b"
      },
      "source": [
        "polos, zeros=pzmap_z(CPDz)\n",
        "polos, zeros"
      ],
      "execution_count": null,
      "outputs": [
        {
          "output_type": "execute_result",
          "data": {
            "text/plain": [
              "(array([0.]), array([0.83333333]))"
            ]
          },
          "metadata": {
            "tags": []
          },
          "execution_count": 58
        },
        {
          "output_type": "display_data",
          "data": {
            "image/png": "[encoded data removed]",
            "text/plain": [
              "<Figure size 432x288 with 1 Axes>"
            ]
          },
          "metadata": {
            "tags": [],
            "needs_background": "light"
          }
        }
      ]
    },
    {
      "cell_type": "markdown",
      "metadata": {
        "id": "nOhsfiF9pM7j"
      },
      "source": [
        "Controlador PI:\n",
        "\n",
        "\n",
        "\n",
        "*  1 zero real ajustável.\n",
        "*  1 pólo fixo em 1.\n",
        "\n",
        "\n",
        "$C_{PI}(z) = \\frac{(kp+ki)z - kp}{z-1}$"
      ]
    },
    {
      "cell_type": "code",
      "metadata": {
        "colab": {
          "base_uri": "https://localhost:8080/"
        },
        "id": "AAbKO-MbpaRj",
        "outputId": "a4795b2d-92d0-4afa-bb98-5f5a323b3462"
      },
      "source": [
        "kp = 1\n",
        "ki = 5\n",
        "CPIz = ctrl.TransferFunction([kp+ki, -kd], [1,-1], dt=True)\n",
        "CPIz"
      ],
      "execution_count": null,
      "outputs": [
        {
          "output_type": "execute_result",
          "data": {
            "text/latex": "$$\\frac{6 z - 5}{z - 1}$$",
            "text/plain": [
              "TransferFunction(array([ 6, -5]), array([ 1, -1]), True)"
            ]
          },
          "metadata": {
            "tags": []
          },
          "execution_count": 59
        }
      ]
    },
    {
      "cell_type": "code",
      "metadata": {
        "colab": {
          "base_uri": "https://localhost:8080/"
        },
        "id": "ZTymtzyuwTTg",
        "outputId": "9a4870a8-e98a-4d87-aa11-69d4250e19d9"
      },
      "source": [
        "polos, zeros=pzmap_z(CPIz)\n",
        "polos, zeros"
      ],
      "execution_count": null,
      "outputs": [
        {
          "output_type": "execute_result",
          "data": {
            "text/plain": [
              "(array([1.]), array([0.83333333]))"
            ]
          },
          "metadata": {
            "tags": []
          },
          "execution_count": 60
        },
        {
          "output_type": "display_data",
          "data": {
            "image/png": "[encoded data removed]",
            "text/plain": [
              "<Figure size 432x288 with 1 Axes>"
            ]
          },
          "metadata": {
            "tags": [],
            "needs_background": "light"
          }
        }
      ]
    },
    {
      "cell_type": "markdown",
      "metadata": {
        "id": "Pr0ysskjpPKY"
      },
      "source": [
        "Controlador PID:\n",
        "\n",
        "\n",
        "*   1 pólo real fixo em 0.\n",
        "*   1 pólo real fixo em 1.\n",
        "*   2 zeros complexos conjugados ajustáveis.\n",
        "\n",
        "\n",
        "\n",
        "$C_{PID}(z) = \\frac{(kp+kd+ki)z^2-(kp+kd)z+kd}{z(z-1)}$"
      ]
    },
    {
      "cell_type": "code",
      "metadata": {
        "colab": {
          "base_uri": "https://localhost:8080/"
        },
        "id": "f1wd-uL5qVF1",
        "outputId": "2d3a4d76-19b2-4c36-8f08-f7931d6e76c2"
      },
      "source": [
        "kp = 5\n",
        "ki = 0.5\n",
        "kd = 2\n",
        "CPIDz = ctrl.TransferFunction([kp+ki+kd, -(kd+2*kd), kd], [1,-1, 0], dt=True)\n",
        "CPIDz"
      ],
      "execution_count": null,
      "outputs": [
        {
          "output_type": "execute_result",
          "data": {
            "text/latex": "$$\\frac{7.5 z^2 - 6 z + 2}{z^2 - z}$$",
            "text/plain": [
              "TransferFunction(array([ 7.5, -6. ,  2. ]), array([ 1, -1,  0]), True)"
            ]
          },
          "metadata": {
            "tags": []
          },
          "execution_count": 61
        }
      ]
    },
    {
      "cell_type": "code",
      "metadata": {
        "colab": {
          "base_uri": "https://localhost:8080/"
        },
        "id": "mjd2bj9wwX9b",
        "outputId": "aaa1ee06-629c-4696-db4a-b8108d56f7bb"
      },
      "source": [
        "polos, zeros=pzmap_z(CPIDz)\n",
        "polos, zeros"
      ],
      "execution_count": null,
      "outputs": [
        {
          "output_type": "execute_result",
          "data": {
            "text/plain": [
              "(array([1., 0.]), array([0.4+0.32659863j, 0.4-0.32659863j]))"
            ]
          },
          "metadata": {
            "tags": []
          },
          "execution_count": 62
        },
        {
          "output_type": "display_data",
          "data": {
            "image/png": "[encoded data removed]",
            "text/plain": [
              "<Figure size 432x288 with 1 Axes>"
            ]
          },
          "metadata": {
            "tags": [],
            "needs_background": "light"
          }
        }
      ]
    },
    {
      "cell_type": "markdown",
      "metadata": {
        "id": "aYxfT542aeO4"
      },
      "source": [
        "# Projeto de Controladores Discretos "
      ]
    },
    {
      "cell_type": "markdown",
      "metadata": {
        "id": "bbakEBfiCQPP"
      },
      "source": [
        "Planta para os Projetos de Controle"
      ]
    },
    {
      "cell_type": "code",
      "metadata": {
        "colab": {
          "base_uri": "https://localhost:8080/",
          "height": 38
        },
        "id": "g_qx4TvUB4O5",
        "outputId": "41cf4d1a-ae62-411c-c533-646ec97e1551"
      },
      "source": [
        "num = [80]\n",
        "den = [0.89, 1]\n",
        "Gs = ctrl.TransferFunction(num, den)\n",
        "Gs"
      ],
      "execution_count": null,
      "outputs": [
        {
          "output_type": "execute_result",
          "data": {
            "text/latex": "$$\\frac{80}{0.89 s + 1}$$",
            "text/plain": [
              "TransferFunction(array([80]), array([0.89, 1.  ]))"
            ]
          },
          "metadata": {
            "tags": []
          },
          "execution_count": 63
        }
      ]
    },
    {
      "cell_type": "code",
      "metadata": {
        "colab": {
          "base_uri": "https://localhost:8080/",
          "height": 38
        },
        "id": "7F3USSBtCezJ",
        "outputId": "9b62c0f2-70c8-4831-e61e-7dbebaccd903"
      },
      "source": [
        "Ts = 0.1\n",
        "Gz = ctrl.sample_system(Gs, Ts, 'zoh')\n",
        "Gz"
      ],
      "execution_count": null,
      "outputs": [
        {
          "output_type": "execute_result",
          "data": {
            "text/latex": "$$\\frac{8.502}{z - 0.8937}\\quad dt = 0.1$$",
            "text/plain": [
              "TransferFunction(array([8.50217111]), array([ 1.        , -0.89372286]), 0.1)"
            ]
          },
          "metadata": {
            "tags": []
          },
          "execution_count": 64
        }
      ]
    },
    {
      "cell_type": "code",
      "metadata": {
        "colab": {
          "base_uri": "https://localhost:8080/",
          "height": 264
        },
        "id": "N9N58kP8CUdi",
        "outputId": "96dc2142-ae7a-4cf0-9c87-458d6bbd2d2d"
      },
      "source": [
        "step_s_z(Gs, [Gz], 15)"
      ],
      "execution_count": null,
      "outputs": [
        {
          "output_type": "display_data",
          "data": {
            "image/png": "[encoded data removed]",
            "text/plain": [
              "<Figure size 648x288 with 1 Axes>"
            ]
          },
          "metadata": {
            "tags": [],
            "needs_background": "light"
          }
        }
      ]
    },
    {
      "cell_type": "code",
      "metadata": {
        "colab": {
          "base_uri": "https://localhost:8080/",
          "height": 388
        },
        "id": "nZvC67UyCoA-",
        "outputId": "151e4913-4658-41f2-eb2a-46982377a234"
      },
      "source": [
        "step_z(Gz, 10)"
      ],
      "execution_count": null,
      "outputs": [
        {
          "output_type": "execute_result",
          "data": {
            "text/plain": [
              "{'Erro Estacionário': -78.99894469813131,\n",
              " 'Overshoot(%)': 0.0,\n",
              " 'Pico': 79.99894469813131,\n",
              " 'Tempo de Estabilização': 3.5,\n",
              " 'Tempo de Pico': 10.0,\n",
              " 'Tempo de Subida': 2.0,\n",
              " 'Valor de Estabilização': 79.99894469813131}"
            ]
          },
          "metadata": {
            "tags": []
          },
          "execution_count": 66
        },
        {
          "output_type": "display_data",
          "data": {
            "image/png": "[encoded data removed]",
            "text/plain": [
              "<Figure size 648x288 with 1 Axes>"
            ]
          },
          "metadata": {
            "tags": [],
            "needs_background": "light"
          }
        }
      ]
    },
    {
      "cell_type": "code",
      "metadata": {
        "colab": {
          "base_uri": "https://localhost:8080/",
          "height": 312
        },
        "id": "jnAuOCUZEy3j",
        "outputId": "abb4fe50-402f-4dab-8c76-e85c2076e2e8"
      },
      "source": [
        "polos, zeros = pzmap_z(Gz)\n",
        "polos"
      ],
      "execution_count": null,
      "outputs": [
        {
          "output_type": "execute_result",
          "data": {
            "text/plain": [
              "array([0.89372286])"
            ]
          },
          "metadata": {
            "tags": []
          },
          "execution_count": 67
        },
        {
          "output_type": "display_data",
          "data": {
            "image/png": "[encoded data removed]",
            "text/plain": [
              "<Figure size 432x288 with 1 Axes>"
            ]
          },
          "metadata": {
            "tags": [],
            "needs_background": "light"
          }
        }
      ]
    },
    {
      "cell_type": "markdown",
      "metadata": {
        "id": "14Tbaki4B5xf"
      },
      "source": [
        "### Projeto PD:\n",
        "Requisitos: Overshoot < 5%; Te < 2 s."
      ]
    },
    {
      "cell_type": "code",
      "metadata": {
        "colab": {
          "base_uri": "https://localhost:8080/",
          "height": 667
        },
        "id": "CDLzH_jvEugq",
        "outputId": "31c2f474-960f-4511-b6f4-b5326f00a463"
      },
      "source": [
        "Kz, S = sisotool_pd(0.8, 0.055, Gz, Ts)\n",
        "S"
      ],
      "execution_count": null,
      "outputs": [
        {
          "output_type": "execute_result",
          "data": {
            "text/plain": [
              "{'Erro Estacionário': 0.53191494189132,\n",
              " 'Overshoot(%)': 0.0,\n",
              " 'Pico': 0.46808505810868,\n",
              " 'Tempo de Estabilização': 1.9000000000000001,\n",
              " 'Tempo de Pico': 10.0,\n",
              " 'Tempo de Subida': 0.0,\n",
              " 'Valor de Estabilização': 0.46808505810868}"
            ]
          },
          "metadata": {
            "tags": []
          },
          "execution_count": 68
        },
        {
          "output_type": "display_data",
          "data": {
            "image/png": "[encoded data removed]",
            "text/plain": [
              "<Figure size 432x288 with 1 Axes>"
            ]
          },
          "metadata": {
            "tags": [],
            "needs_background": "light"
          }
        },
        {
          "output_type": "display_data",
          "data": {
            "image/png": "[encoded data removed]",
            "text/plain": [
              "<Figure size 648x288 with 1 Axes>"
            ]
          },
          "metadata": {
            "tags": [],
            "needs_background": "light"
          }
        }
      ]
    },
    {
      "cell_type": "markdown",
      "metadata": {
        "id": "POobcat-HfDS"
      },
      "source": [
        "### Projeto PI:\n",
        "Requisitos: Overshoot < 5%; Te < 2 s"
      ]
    },
    {
      "cell_type": "code",
      "metadata": {
        "colab": {
          "base_uri": "https://localhost:8080/"
        },
        "id": "9Enrur0vHmq7",
        "outputId": "ab3b1c87-a792-42cc-82d1-5b4c82f9c42c"
      },
      "source": [
        "Kz, S = sisotool_pi(0.85, 0.04, Gz, Ts)\n",
        "S"
      ],
      "execution_count": null,
      "outputs": [
        {
          "output_type": "execute_result",
          "data": {
            "text/plain": [
              "{'Erro Estacionário': 3.587619090694716e-11,\n",
              " 'Overshoot(%)': 4.464558490559078,\n",
              " 'Pico': 1.0446455848681129,\n",
              " 'Tempo de Estabilização': 1.8,\n",
              " 'Tempo de Pico': 1.0,\n",
              " 'Tempo de Subida': 0.4,\n",
              " 'Valor de Estabilização': 0.9999999999641238}"
            ]
          },
          "metadata": {
            "tags": []
          },
          "execution_count": 69
        },
        {
          "output_type": "display_data",
          "data": {
            "image/png": "[encoded data removed]",
            "text/plain": [
              "<Figure size 432x288 with 1 Axes>"
            ]
          },
          "metadata": {
            "tags": [],
            "needs_background": "light"
          }
        },
        {
          "output_type": "display_data",
          "data": {
            "image/png": "[encoded data removed]",
            "text/plain": [
              "<Figure size 648x288 with 1 Axes>"
            ]
          },
          "metadata": {
            "tags": [],
            "needs_background": "light"
          }
        }
      ]
    },
    {
      "cell_type": "markdown",
      "metadata": {
        "id": "P4_SAbYXlkoh"
      },
      "source": [
        "### Projeto PID:\n",
        "Requisitos: Overshoot < 5%; Te < 2.0 s"
      ]
    },
    {
      "cell_type": "code",
      "metadata": {
        "colab": {
          "base_uri": "https://localhost:8080/"
        },
        "id": "G0Edw9Qnlkok",
        "outputId": "66020739-b825-4d02-e544-eaa149506f28"
      },
      "source": [
        "Kz, S = sisotool_pid(0.84, 0.07, 0.11, Gz, Ts)\n",
        "S"
      ],
      "execution_count": null,
      "outputs": [
        {
          "output_type": "execute_result",
          "data": {
            "text/plain": [
              "{'Erro Estacionário': 4.460519874904811e-06,\n",
              " 'Overshoot(%)': 1.4088789342608707,\n",
              " 'Pico': 1.014084265979409,\n",
              " 'Tempo de Estabilização': 1.9000000000000001,\n",
              " 'Tempo de Pico': 2.7,\n",
              " 'Tempo de Subida': 0.0,\n",
              " 'Valor de Estabilização': 0.9999955394801251}"
            ]
          },
          "metadata": {
            "tags": []
          },
          "execution_count": 70
        },
        {
          "output_type": "display_data",
          "data": {
            "image/png": "[encoded data removed]",
            "text/plain": [
              "<Figure size 432x288 with 1 Axes>"
            ]
          },
          "metadata": {
            "tags": [],
            "needs_background": "light"
          }
        },
        {
          "output_type": "display_data",
          "data": {
            "image/png": "[encoded data removed]",
            "text/plain": [
              "<Figure size 648x288 with 1 Axes>"
            ]
          },
          "metadata": {
            "tags": [],
            "needs_background": "light"
          }
        }
      ]
    },
    {
      "cell_type": "markdown",
      "metadata": {
        "id": "W_vEjmukai_I"
      },
      "source": [
        "# Equações a Diferenças"
      ]
    },
    {
      "cell_type": "code",
      "metadata": {
        "colab": {
          "base_uri": "https://localhost:8080/"
        },
        "id": "qVKqvmaD6Lko",
        "outputId": "c417bdf5-0b80-4b36-e01d-c6007cc96923"
      },
      "source": [
        "Kz"
      ],
      "execution_count": null,
      "outputs": [
        {
          "output_type": "execute_result",
          "data": {
            "text/latex": "$$\\frac{0.11 z^2 - 0.1848 z + 0.07815}{z^2 - z}\\quad dt = 0.1$$",
            "text/plain": [
              "TransferFunction(array([ 0.11    , -0.1848  ,  0.078155]), array([ 1, -1,  0]), 0.1)"
            ]
          },
          "metadata": {
            "tags": []
          },
          "execution_count": 71
        }
      ]
    },
    {
      "cell_type": "code",
      "metadata": {
        "colab": {
          "base_uri": "https://localhost:8080/"
        },
        "id": "RQHAAFvkBHxx",
        "outputId": "d8e82a4b-7463-4c03-ce4c-d57ff9baa70a"
      },
      "source": [
        "Eq_Dif(Kz)"
      ],
      "execution_count": null,
      "outputs": [
        {
          "output_type": "execute_result",
          "data": {
            "image/png": "[encoded data removed]",
            "text/latex": "$\\displaystyle uk = 0.11 ek - 0.1848 ek_{1} + 0.0782 ek_{2} + uk_{1}$",
            "text/plain": [
              "uk = 0.11⋅ek - 0.1848⋅ek₁ + 0.0782⋅ek₂ + uk₁"
            ]
          },
          "metadata": {
            "tags": []
          },
          "execution_count": 72
        }
      ]
    },
    {
      "cell_type": "markdown",
      "metadata": {
        "id": "HhpCjKRi-Ovv"
      },
      "source": [
        "# Projeto Exemplo: Motor DC\n"
      ]
    },
    {
      "cell_type": "markdown",
      "metadata": {
        "id": "yYHnmZRqH1-_"
      },
      "source": [
        "### Função de Transferência Contínua"
      ]
    },
    {
      "cell_type": "code",
      "metadata": {
        "id": "DHHtK0GAH_wJ"
      },
      "source": [
        "La = 0.35\n",
        "Ra = 1.5\n",
        "Va = 220\n",
        "kt = 0.5 \n",
        "kv = 13\n",
        "Jm = 0.01\n",
        "Bm = 0.1\n",
        "Jl = 0.04\n",
        "Bl = 0.3\n",
        "J = Jm + Jl\n",
        "B = Bm + Bl"
      ],
      "execution_count": null,
      "outputs": []
    },
    {
      "cell_type": "code",
      "metadata": {
        "colab": {
          "base_uri": "https://localhost:8080/"
        },
        "id": "z8wDUPGZIapw",
        "outputId": "b1718013-38bf-4e31-e905-21c3417debab"
      },
      "source": [
        "num_motor = [kt]\n",
        "den_motor = [La*J, (La*B)+(Ra*J), (Ra*B)+(kv*kt)]\n",
        "Gs = ctrl.TransferFunction(num_motor, den_motor)\n",
        "Gs"
      ],
      "execution_count": null,
      "outputs": [
        {
          "output_type": "execute_result",
          "data": {
            "text/latex": "$$\\frac{0.5}{0.0175 s^2 + 0.215 s + 7.1}$$",
            "text/plain": [
              "TransferFunction(array([0.5]), array([0.0175, 0.215 , 7.1   ]))"
            ]
          },
          "metadata": {
            "tags": []
          },
          "execution_count": 74
        }
      ]
    },
    {
      "cell_type": "code",
      "metadata": {
        "colab": {
          "base_uri": "https://localhost:8080/"
        },
        "id": "FVeoYyOuxHt2",
        "outputId": "82f02d87-2486-489a-a728-746ecb405acb"
      },
      "source": [
        "step_s_z(Gs, None, 10, Amp=220)"
      ],
      "execution_count": null,
      "outputs": [
        {
          "output_type": "display_data",
          "data": {
            "image/png": "[encoded data removed]",
            "text/plain": [
              "<Figure size 648x288 with 1 Axes>"
            ]
          },
          "metadata": {
            "tags": [],
            "needs_background": "light"
          }
        }
      ]
    },
    {
      "cell_type": "markdown",
      "metadata": {
        "id": "0ldBKVTqI_uL"
      },
      "source": [
        "### Função de Transferência Discreta com fs = 10 kHz"
      ]
    },
    {
      "cell_type": "code",
      "metadata": {
        "colab": {
          "base_uri": "https://localhost:8080/"
        },
        "id": "pvFo34U7JHwl",
        "outputId": "10706384-00d1-4bd2-8190-4c2f45a5c3dc"
      },
      "source": [
        "Ts_10KHz = 1/10e3\n",
        "Gz_10KHz = ctrl.sample_system(Gs, Ts_10KHz, 'zoh')\n",
        "Gz_10KHz"
      ],
      "execution_count": null,
      "outputs": [
        {
          "output_type": "execute_result",
          "data": {
            "text/latex": "$$\\frac{1.428 \\times 10^{-7} z + 1.427 \\times 10^{-7}}{z^2 - 1.999 z + 0.9988}\\quad dt = 0.0001$$",
            "text/plain": [
              "TransferFunction(array([1.42798610e-07, 1.42740141e-07]), array([ 1.        , -1.99876813,  0.99877218]), 0.0001)"
            ]
          },
          "metadata": {
            "tags": []
          },
          "execution_count": 76
        }
      ]
    },
    {
      "cell_type": "code",
      "metadata": {
        "colab": {
          "base_uri": "https://localhost:8080/"
        },
        "id": "-WyILfR3xvcD",
        "outputId": "2e4b7b3f-b584-40cf-bec8-c364d01c8937"
      },
      "source": [
        "step_s_z(Gs, [Gz_10KHz], 10)"
      ],
      "execution_count": null,
      "outputs": [
        {
          "output_type": "display_data",
          "data": {
            "image/png": "[encoded data removed]",
            "text/plain": [
              "<Figure size 648x288 with 1 Axes>"
            ]
          },
          "metadata": {
            "tags": [],
            "needs_background": "light"
          }
        }
      ]
    },
    {
      "cell_type": "markdown",
      "metadata": {
        "id": "DodD2xMAJXzg"
      },
      "source": [
        "### LR discreto e Ganho de Estabilidade Máximo"
      ]
    },
    {
      "cell_type": "code",
      "metadata": {
        "id": "Kggd4flBJi7m",
        "colab": {
          "base_uri": "https://localhost:8080/",
          "height": 367
        },
        "outputId": "e9593814-2c52-43ba-fac9-15cac46d12af"
      },
      "source": [
        "kzero,ganho = root_locus_max_gain(Gz_10KHz, kveck = np.arange(0,10000, 1))\n",
        "kzero, ganho"
      ],
      "execution_count": null,
      "outputs": [
        {
          "output_type": "stream",
          "text": [
            "/usr/local/lib/python3.7/dist-packages/ipykernel_launcher.py:11: DeprecationWarning: The Python built-in `round` is deprecated for complex scalars, and will raise a `TypeError` in a future release. Use `np.round` or `scalar.round` instead.\n",
            "  # This is added back by InteractiveShellApp.init_path()\n"
          ],
          "name": "stderr"
        },
        {
          "output_type": "execute_result",
          "data": {
            "text/plain": [
              "([(1-0.05j), (1+0.05j)], [8602, 8602])"
            ]
          },
          "metadata": {
            "tags": []
          },
          "execution_count": 78
        },
        {
          "output_type": "display_data",
          "data": {
            "image/png": "[encoded data removed]",
            "text/plain": [
              "<Figure size 432x288 with 1 Axes>"
            ]
          },
          "metadata": {
            "tags": [],
            "needs_background": "light"
          }
        }
      ]
    },
    {
      "cell_type": "markdown",
      "metadata": {
        "id": "xOWKdCuQJomT"
      },
      "source": [
        "### MA ao degrau de entrada Va = 220 e Tempo de Subida (0 - 100 %)."
      ]
    },
    {
      "cell_type": "code",
      "metadata": {
        "colab": {
          "base_uri": "https://localhost:8080/"
        },
        "id": "vWBr1s5YJ2sc",
        "outputId": "1f454c2b-344a-4087-919a-329d5cd839bb"
      },
      "source": [
        "S = step_z(Gz_10KHz, T=10, ts=(0,1), Amp=Va)\n",
        "S"
      ],
      "execution_count": null,
      "outputs": [
        {
          "output_type": "execute_result",
          "data": {
            "text/plain": [
              "{'Erro Estacionário': 204.50704225751755,\n",
              " 'Overshoot(%)': 36.56698683557174,\n",
              " 'Pico': 21.158265560616705,\n",
              " 'Tempo de Estabilização': 0.557,\n",
              " 'Tempo de Pico': 0.1638,\n",
              " 'Tempo de Subida': 0.0981,\n",
              " 'Valor de Estabilização': 15.492957742482453}"
            ]
          },
          "metadata": {
            "tags": []
          },
          "execution_count": 79
        },
        {
          "output_type": "display_data",
          "data": {
            "image/png": "[encoded data removed]",
            "text/plain": [
              "<Figure size 648x288 with 1 Axes>"
            ]
          },
          "metadata": {
            "tags": [],
            "needs_background": "light"
          }
        }
      ]
    },
    {
      "cell_type": "markdown",
      "metadata": {
        "id": "GBA3sfZcKWse"
      },
      "source": [
        "### Projeto do PI 10 kHZ\n",
        "\n",
        "\n",
        "*   Overshoot < 2%\n",
        "*   Tac = 8*Tr\n",
        "\n"
      ]
    },
    {
      "cell_type": "code",
      "metadata": {
        "colab": {
          "base_uri": "https://localhost:8080/"
        },
        "id": "J9F3qwPEKnws",
        "outputId": "e96341a4-cd63-45d0-cda2-58fbd41133bb"
      },
      "source": [
        "8*S['Tempo de Subida']"
      ],
      "execution_count": null,
      "outputs": [
        {
          "output_type": "execute_result",
          "data": {
            "image/png": "[encoded data removed]",
            "text/latex": "$\\displaystyle 0.7848$",
            "text/plain": [
              "0.7848"
            ]
          },
          "metadata": {
            "tags": []
          },
          "execution_count": 80
        }
      ]
    },
    {
      "cell_type": "code",
      "metadata": {
        "colab": {
          "base_uri": "https://localhost:8080/"
        },
        "id": "hKsB-mEBK2w_",
        "outputId": "39bffb2e-bc6c-4827-ccaf-43f8f8c1e1dd"
      },
      "source": [
        "Gz_10KHz.pole()"
      ],
      "execution_count": null,
      "outputs": [
        {
          "output_type": "execute_result",
          "data": {
            "text/plain": [
              "array([0.99938406+0.0019171j, 0.99938406-0.0019171j])"
            ]
          },
          "metadata": {
            "tags": []
          },
          "execution_count": 81
        }
      ]
    },
    {
      "cell_type": "code",
      "metadata": {
        "colab": {
          "base_uri": "https://localhost:8080/"
        },
        "id": "ZfNEUBjKCh8S",
        "outputId": "46ce3221-e809-4581-c7c4-aa9b7e388bca"
      },
      "source": [
        "pzmap_z(Gz_10KHz)"
      ],
      "execution_count": null,
      "outputs": [
        {
          "output_type": "execute_result",
          "data": {
            "text/plain": [
              "(array([0.99938406+0.0019171j, 0.99938406-0.0019171j]), array([-0.99959055]))"
            ]
          },
          "metadata": {
            "tags": []
          },
          "execution_count": 82
        },
        {
          "output_type": "display_data",
          "data": {
            "image/png": "[encoded data removed]",
            "text/plain": [
              "<Figure size 432x288 with 1 Axes>"
            ]
          },
          "metadata": {
            "tags": [],
            "needs_background": "light"
          }
        }
      ]
    },
    {
      "cell_type": "code",
      "metadata": {
        "colab": {
          "base_uri": "https://localhost:8080/"
        },
        "id": "DBIMgO1pKzZ7",
        "outputId": "4e45a3ae-0a65-466c-e9e4-a9301f4c914f"
      },
      "source": [
        "K_PI_10KHz, S_PI_10KHz = sisotool_pi(0.9991, 12, Gz_10KHz, Ts_10KHz)\n",
        "S_PI_10KHz"
      ],
      "execution_count": null,
      "outputs": [
        {
          "output_type": "execute_result",
          "data": {
            "text/plain": [
              "{'Erro Estacionário': 8.048472488475511e-08,\n",
              " 'Overshoot(%)': 0.6168913410807624,\n",
              " 'Pico': 1.0061688324295794,\n",
              " 'Tempo de Estabilização': 0.7819,\n",
              " 'Tempo de Pico': 0.36910000000000004,\n",
              " 'Tempo de Subida': 0.0779,\n",
              " 'Valor de Estabilização': 0.9999999195152751}"
            ]
          },
          "metadata": {
            "tags": []
          },
          "execution_count": 83
        },
        {
          "output_type": "display_data",
          "data": {
            "image/png": "[encoded data removed]",
            "text/plain": [
              "<Figure size 432x288 with 1 Axes>"
            ]
          },
          "metadata": {
            "tags": [],
            "needs_background": "light"
          }
        },
        {
          "output_type": "display_data",
          "data": {
            "image/png": "[encoded data removed]",
            "text/plain": [
              "<Figure size 648x288 with 1 Axes>"
            ]
          },
          "metadata": {
            "tags": [],
            "needs_background": "light"
          }
        }
      ]
    },
    {
      "cell_type": "markdown",
      "metadata": {
        "id": "bHOK4EL0M6Qu"
      },
      "source": [
        "### Projeto do PI 100 HZ\n",
        "\n",
        "\n",
        "*   Overshoot < 2%\n",
        "*   Tac = 8*Tr\n",
        "\n"
      ]
    },
    {
      "cell_type": "code",
      "metadata": {
        "colab": {
          "base_uri": "https://localhost:8080/"
        },
        "id": "zJdk1F7kM_hG",
        "outputId": "86d8fd5c-06bb-49df-b83d-98e4e1069672"
      },
      "source": [
        "Ts_100Hz = 1/100\n",
        "Gz_100Hz = ctrl.sample_system(Gs, Ts_100Hz, 'zoh')\n",
        "Gz_100Hz"
      ],
      "execution_count": null,
      "outputs": [
        {
          "output_type": "execute_result",
          "data": {
            "text/latex": "$$\\frac{0.001367 z + 0.001312}{z^2 - 1.846 z + 0.8844}\\quad dt = 0.01$$",
            "text/plain": [
              "TransferFunction(array([0.00136723, 0.0013123 ]), array([ 1.        , -1.84634068,  0.88438999]), 0.01)"
            ]
          },
          "metadata": {
            "tags": []
          },
          "execution_count": 84
        }
      ]
    },
    {
      "cell_type": "code",
      "metadata": {
        "colab": {
          "base_uri": "https://localhost:8080/"
        },
        "id": "YENUGQm5M6Q5",
        "outputId": "bfd89ba9-132a-49d6-cc5f-0d88f9bee1dd"
      },
      "source": [
        "8*S['Tempo de Subida']"
      ],
      "execution_count": null,
      "outputs": [
        {
          "output_type": "execute_result",
          "data": {
            "image/png": "[encoded data removed]",
            "text/latex": "$\\displaystyle 0.7848$",
            "text/plain": [
              "0.7848"
            ]
          },
          "metadata": {
            "tags": []
          },
          "execution_count": 85
        }
      ]
    },
    {
      "cell_type": "code",
      "metadata": {
        "colab": {
          "base_uri": "https://localhost:8080/"
        },
        "id": "oSIa6m6wM6Q6",
        "outputId": "d7390d3b-f53e-4a6d-de80-fee1cf4d6d55"
      },
      "source": [
        "Gz_100Hz.pole()"
      ],
      "execution_count": null,
      "outputs": [
        {
          "output_type": "execute_result",
          "data": {
            "text/plain": [
              "array([0.92317034+0.1792945j, 0.92317034-0.1792945j])"
            ]
          },
          "metadata": {
            "tags": []
          },
          "execution_count": 86
        }
      ]
    },
    {
      "cell_type": "code",
      "metadata": {
        "colab": {
          "base_uri": "https://localhost:8080/"
        },
        "id": "4BOE8eysCUhM",
        "outputId": "ca87920b-578a-42a0-b285-bb7869c90ddb"
      },
      "source": [
        "pzmap_z(Gz_100Hz)"
      ],
      "execution_count": null,
      "outputs": [
        {
          "output_type": "execute_result",
          "data": {
            "text/plain": [
              "(array([0.92317034+0.1792945j, 0.92317034-0.1792945j]), array([-0.95982601]))"
            ]
          },
          "metadata": {
            "tags": []
          },
          "execution_count": 87
        },
        {
          "output_type": "display_data",
          "data": {
            "image/png": "[encoded data removed]",
            "text/plain": [
              "<Figure size 432x288 with 1 Axes>"
            ]
          },
          "metadata": {
            "tags": [],
            "needs_background": "light"
          }
        }
      ]
    },
    {
      "cell_type": "code",
      "metadata": {
        "colab": {
          "base_uri": "https://localhost:8080/"
        },
        "id": "hKlQ_m4wM6Q7",
        "outputId": "d2d8bfe9-fb84-45cd-94fa-6fec8fc7a0f3"
      },
      "source": [
        "K_PI_100Hz, S_PI_100Hz = sisotool_pi(0.77, 3.5, Gz_100Hz, Ts_100Hz)\n",
        "S_PI_100Hz"
      ],
      "execution_count": null,
      "outputs": [
        {
          "output_type": "execute_result",
          "data": {
            "text/plain": [
              "{'Erro Estacionário': -1.9895196601282805e-13,\n",
              " 'Overshoot(%)': 0.6123526772289115,\n",
              " 'Pico': 1.0061235267724893,\n",
              " 'Tempo de Estabilização': 0.73,\n",
              " 'Tempo de Pico': 0.8,\n",
              " 'Tempo de Subida': 0.37,\n",
              " 'Valor de Estabilização': 1.000000000000199}"
            ]
          },
          "metadata": {
            "tags": []
          },
          "execution_count": 88
        },
        {
          "output_type": "display_data",
          "data": {
            "image/png": "[encoded data removed]",
            "text/plain": [
              "<Figure size 432x288 with 1 Axes>"
            ]
          },
          "metadata": {
            "tags": [],
            "needs_background": "light"
          }
        },
        {
          "output_type": "display_data",
          "data": {
            "image/png": "[encoded data removed]",
            "text/plain": [
              "<Figure size 648x288 with 1 Axes>"
            ]
          },
          "metadata": {
            "tags": [],
            "needs_background": "light"
          }
        }
      ]
    },
    {
      "cell_type": "code",
      "metadata": {
        "colab": {
          "base_uri": "https://localhost:8080/"
        },
        "id": "7VfVziZcN8DF",
        "outputId": "de53c63d-4ba4-4bc1-bd80-d4710a703243"
      },
      "source": [
        "K_PI_100Hz"
      ],
      "execution_count": null,
      "outputs": [
        {
          "output_type": "execute_result",
          "data": {
            "text/latex": "$$\\frac{3.5 z - 2.695}{z - 1}\\quad dt = 0.01$$",
            "text/plain": [
              "TransferFunction(array([ 3.5  , -2.695]), array([ 1, -1]), 0.01)"
            ]
          },
          "metadata": {
            "tags": []
          },
          "execution_count": 89
        }
      ]
    },
    {
      "cell_type": "code",
      "metadata": {
        "colab": {
          "base_uri": "https://localhost:8080/"
        },
        "id": "zUkg-IilN-Hq",
        "outputId": "0e36282e-71fc-4225-92ec-0d4072ec19f8"
      },
      "source": [
        "kp_PI_100Hz = -K_PI_100Hz.num[0][0][1]\n",
        "ki_PI_100Hz = kp_PI_100Hz - K_PI_100Hz.num[0][0][1] \n",
        "kp_PI_100Hz,ki_PI_100Hz"
      ],
      "execution_count": null,
      "outputs": [
        {
          "output_type": "execute_result",
          "data": {
            "image/png": "[encoded data removed]",
            "text/latex": "$\\displaystyle \\left( 2.695, \\  5.39\\right)$",
            "text/plain": [
              "(2.6950000000000003, 5.390000000000001)"
            ]
          },
          "metadata": {
            "tags": []
          },
          "execution_count": 90
        }
      ]
    },
    {
      "cell_type": "markdown",
      "metadata": {
        "id": "4oAmx_grO1-6"
      },
      "source": [
        "### Projeto do PID 100 HZ\n",
        "\n",
        "\n",
        "*   Overshoot < 2%\n",
        "*   Tac = 4*Tr\n",
        "\n"
      ]
    },
    {
      "cell_type": "code",
      "metadata": {
        "colab": {
          "base_uri": "https://localhost:8080/"
        },
        "id": "DvA_mrVcO1_B",
        "outputId": "b6027ce9-022f-4945-a656-5aff761aa6e5"
      },
      "source": [
        "4*S['Tempo de Subida']"
      ],
      "execution_count": null,
      "outputs": [
        {
          "output_type": "execute_result",
          "data": {
            "image/png": "[encoded data removed]",
            "text/latex": "$\\displaystyle 0.3924$",
            "text/plain": [
              "0.3924"
            ]
          },
          "metadata": {
            "tags": []
          },
          "execution_count": 91
        }
      ]
    },
    {
      "cell_type": "code",
      "metadata": {
        "colab": {
          "base_uri": "https://localhost:8080/"
        },
        "id": "W70D5zUMO1_C",
        "outputId": "207edeed-a06a-4058-cab7-fa1d90c898f7"
      },
      "source": [
        "Gz_100Hz.pole()"
      ],
      "execution_count": null,
      "outputs": [
        {
          "output_type": "execute_result",
          "data": {
            "text/plain": [
              "array([0.92317034+0.1792945j, 0.92317034-0.1792945j])"
            ]
          },
          "metadata": {
            "tags": []
          },
          "execution_count": 92
        }
      ]
    },
    {
      "cell_type": "code",
      "metadata": {
        "colab": {
          "base_uri": "https://localhost:8080/"
        },
        "id": "GIXObG1UO1_C",
        "outputId": "6f2c5802-147e-4a19-bea7-f8acac2a9345"
      },
      "source": [
        "K_PID_100Hz, S_PID_100Hz = sisotool_pid(0.87, 0.15, 35.2, Gz_100Hz, Ts_100Hz)\n",
        "S_PID_100Hz"
      ],
      "execution_count": null,
      "outputs": [
        {
          "output_type": "execute_result",
          "data": {
            "text/plain": [
              "{'Erro Estacionário': -7.149836278586008e-14,\n",
              " 'Overshoot(%)': 0.05292700605079203,\n",
              " 'Pico': 1.0005292700605795,\n",
              " 'Tempo de Estabilização': 0.38,\n",
              " 'Tempo de Pico': 0.6900000000000001,\n",
              " 'Tempo de Subida': 0.29,\n",
              " 'Valor de Estabilização': 1.0000000000000715}"
            ]
          },
          "metadata": {
            "tags": []
          },
          "execution_count": 93
        },
        {
          "output_type": "display_data",
          "data": {
            "image/png": "[encoded data removed]",
            "text/plain": [
              "<Figure size 432x288 with 1 Axes>"
            ]
          },
          "metadata": {
            "tags": [],
            "needs_background": "light"
          }
        },
        {
          "output_type": "display_data",
          "data": {
            "image/png": "[encoded data removed]",
            "text/plain": [
              "<Figure size 648x288 with 1 Axes>"
            ]
          },
          "metadata": {
            "tags": [],
            "needs_background": "light"
          }
        }
      ]
    },
    {
      "cell_type": "code",
      "metadata": {
        "colab": {
          "base_uri": "https://localhost:8080/"
        },
        "id": "XILmDbASO1_D",
        "outputId": "3b0b9962-a4bf-4a0b-a4e2-d08da052d2cf"
      },
      "source": [
        "K_PID_100Hz"
      ],
      "execution_count": null,
      "outputs": [
        {
          "output_type": "execute_result",
          "data": {
            "text/latex": "$$\\frac{35.2 z^2 - 61.25 z + 27.43}{z^2 - z}\\quad dt = 0.01$$",
            "text/plain": [
              "TransferFunction(array([ 35.2    , -61.248  ,  27.43488]), array([ 1, -1,  0]), 0.01)"
            ]
          },
          "metadata": {
            "tags": []
          },
          "execution_count": 94
        }
      ]
    },
    {
      "cell_type": "code",
      "metadata": {
        "colab": {
          "base_uri": "https://localhost:8080/"
        },
        "id": "opx4Iik5O1_D",
        "outputId": "2012dc6e-b50f-44f6-afda-903db7b8249f"
      },
      "source": [
        "kd_PID_100Hz = K_PID_100Hz.num[0][0][2]\n",
        "kp_PID_100Hz = -K_PID_100Hz.num[0][0][1] - 2*kd_PID_100Hz \n",
        "ki_PID_100Hz = K_PID_100Hz.num[0][0][0] - (kp_PID_100Hz + kd_PID_100Hz) \n",
        "kp_PID_100Hz,ki_PID_100Hz, kd_PID_100Hz"
      ],
      "execution_count": null,
      "outputs": [
        {
          "output_type": "execute_result",
          "data": {
            "image/png": "[encoded data removed]",
            "text/latex": "$\\displaystyle \\left( 6.37824, \\  1.38688, \\  27.43488\\right)$",
            "text/plain": [
              "(6.378239999999998, 1.386880000000005, 27.434880000000003)"
            ]
          },
          "metadata": {
            "tags": []
          },
          "execution_count": 95
        }
      ]
    },
    {
      "cell_type": "markdown",
      "metadata": {
        "id": "-vRAhouJXdOW"
      },
      "source": [
        "### Equação a Diferenças dos controladores"
      ]
    },
    {
      "cell_type": "code",
      "metadata": {
        "id": "5JB0E6EMXg4Z",
        "colab": {
          "base_uri": "https://localhost:8080/"
        },
        "outputId": "66f114f1-48e4-4d0a-b93c-ced1ae9df6a7"
      },
      "source": [
        "#PI - 10 KHz\n",
        "print(K_PI_10KHz)\n",
        "Eq_Dif(K_PI_10KHz)"
      ],
      "execution_count": null,
      "outputs": [
        {
          "output_type": "stream",
          "text": [
            "\n",
            "12 z - 11.99\n",
            "------------\n",
            "   z - 1\n",
            "\n",
            "dt = 0.0001\n",
            "\n"
          ],
          "name": "stdout"
        },
        {
          "output_type": "execute_result",
          "data": {
            "image/png": "[encoded data removed]",
            "text/latex": "$\\displaystyle uk = 12.0 ek - 11.9892 ek_{1} + uk_{1}$",
            "text/plain": [
              "uk = 12.0⋅ek - 11.9892⋅ek₁ + uk₁"
            ]
          },
          "metadata": {
            "tags": []
          },
          "execution_count": 96
        }
      ]
    },
    {
      "cell_type": "code",
      "metadata": {
        "colab": {
          "base_uri": "https://localhost:8080/"
        },
        "id": "DA5-GkeGYJtb",
        "outputId": "6099bbbc-9879-4292-e200-53158cabcc27"
      },
      "source": [
        "#PI - 100 Hz\n",
        "print(K_PI_100Hz)\n",
        "Eq_Dif(K_PI_100Hz)"
      ],
      "execution_count": null,
      "outputs": [
        {
          "output_type": "stream",
          "text": [
            "\n",
            "3.5 z - 2.695\n",
            "-------------\n",
            "    z - 1\n",
            "\n",
            "dt = 0.01\n",
            "\n"
          ],
          "name": "stdout"
        },
        {
          "output_type": "execute_result",
          "data": {
            "image/png": "[encoded data removed]",
            "text/latex": "$\\displaystyle uk = 3.5 ek - 2.695 ek_{1} + uk_{1}$",
            "text/plain": [
              "uk = 3.5⋅ek - 2.695⋅ek₁ + uk₁"
            ]
          },
          "metadata": {
            "tags": []
          },
          "execution_count": 97
        }
      ]
    },
    {
      "cell_type": "code",
      "metadata": {
        "colab": {
          "base_uri": "https://localhost:8080/"
        },
        "id": "iAQqyeUFYZFp",
        "outputId": "b70502cb-8248-4f71-cdfa-15e68afd1ce9"
      },
      "source": [
        "#PID - 100 Hz\n",
        "print(K_PID_100Hz)\n",
        "Eq_Dif(K_PID_100Hz)"
      ],
      "execution_count": null,
      "outputs": [
        {
          "output_type": "stream",
          "text": [
            "\n",
            "35.2 z^2 - 61.25 z + 27.43\n",
            "--------------------------\n",
            "         z^2 - z\n",
            "\n",
            "dt = 0.01\n",
            "\n"
          ],
          "name": "stdout"
        },
        {
          "output_type": "execute_result",
          "data": {
            "image/png": "[encoded data removed]",
            "text/latex": "$\\displaystyle uk = 35.2 ek - 61.248 ek_{1} + 27.4349 ek_{2} + uk_{1}$",
            "text/plain": [
              "uk = 35.2⋅ek - 61.248⋅ek₁ + 27.4349⋅ek₂ + uk₁"
            ]
          },
          "metadata": {
            "tags": []
          },
          "execution_count": 98
        }
      ]
    }
  ]
}